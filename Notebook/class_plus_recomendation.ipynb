{
  "cells": [
    {
      "cell_type": "markdown",
      "id": "62df9e8a",
      "metadata": {
        "id": "62df9e8a"
      },
      "source": [
        "# Importação das bibliotecas"
      ]
    },
    {
      "cell_type": "code",
      "execution_count": 99,
      "id": "bd6e5755",
      "metadata": {
        "id": "bd6e5755"
      },
      "outputs": [],
      "source": [
        "import pandas as pd\n",
        "import matplotlib.pyplot as plt\n",
        "import numpy as np\n",
        "import json\n",
        "from sklearn.feature_extraction.text import TfidfVectorizer\n",
        "from scipy import stats\n",
        "from google.colab import drive\n",
        "\n",
        "from sklearn.model_selection import train_test_split, GridSearchCV\n",
        "from sklearn.neighbors import KNeighborsClassifier\n",
        "from sklearn.metrics import f1_score, accuracy_score, recall_score, precision_score, classification_report\n",
        "from sklearn.ensemble import RandomForestClassifier\n",
        "from sklearn.linear_model import LogisticRegression\n",
        "from xgboost import XGBClassifier\n",
        "\n",
        "from sklearn.metrics.pairwise import cosine_similarity"
      ]
    },
    {
      "cell_type": "code",
      "source": [
        "import sys\n",
        "print(sys.getrecursionlimit())\n",
        "\n",
        "import warnings\n",
        "warnings.filterwarnings(\"ignore\")"
      ],
      "metadata": {
        "colab": {
          "base_uri": "https://localhost:8080/"
        },
        "id": "6ioZW1lERsNR",
        "outputId": "d9c2cdb5-a3c4-4a9b-bf40-f2000f371b00"
      },
      "id": "6ioZW1lERsNR",
      "execution_count": 2,
      "outputs": [
        {
          "output_type": "stream",
          "name": "stdout",
          "text": [
            "1000\n"
          ]
        }
      ]
    },
    {
      "cell_type": "code",
      "source": [
        "sys.setrecursionlimit(10000)"
      ],
      "metadata": {
        "id": "Chs0z6trRvDw"
      },
      "id": "Chs0z6trRvDw",
      "execution_count": 3,
      "outputs": []
    },
    {
      "cell_type": "markdown",
      "id": "af81931b",
      "metadata": {
        "id": "af81931b"
      },
      "source": [
        "# Carregamento do dataset"
      ]
    },
    {
      "cell_type": "code",
      "source": [
        "drive.mount('/content/gdrive', force_remount=True)"
      ],
      "metadata": {
        "colab": {
          "base_uri": "https://localhost:8080/"
        },
        "id": "lZRwFRGOQEwU",
        "outputId": "e663dab2-28c0-45aa-fbaa-5a329bee564c"
      },
      "id": "lZRwFRGOQEwU",
      "execution_count": 4,
      "outputs": [
        {
          "output_type": "stream",
          "name": "stdout",
          "text": [
            "Mounted at /content/gdrive\n"
          ]
        }
      ]
    },
    {
      "cell_type": "code",
      "execution_count": 5,
      "id": "796a51ec",
      "metadata": {
        "id": "796a51ec"
      },
      "outputs": [],
      "source": [
        "meta = pd.read_json('/content/gdrive/My Drive/Portfólio/Classification and Recommendation/meta_Video_Games.json',lines=True)\n",
        "video = pd.read_json('/content/gdrive/My Drive/Portfólio/Classification and Recommendation/Video_Games_sample.json',lines=True)"
      ]
    },
    {
      "cell_type": "code",
      "execution_count": 6,
      "id": "7363bf4e",
      "metadata": {
        "colab": {
          "base_uri": "https://localhost:8080/",
          "height": 214
        },
        "id": "7363bf4e",
        "outputId": "f9fe812a-8e85-41b9-aec4-96c9a601670f"
      },
      "outputs": [
        {
          "output_type": "execute_result",
          "data": {
            "text/plain": [
              "                   category tech1 description fit                       title  \\\n",
              "0  [Video Games, PC, Games]                []      Reversi Sensory Challenger   \n",
              "\n",
              "  also_buy tech2                 brand feature  \\\n",
              "0       []        Fidelity Electronics      []   \n",
              "\n",
              "                                                rank also_view  \\\n",
              "0  [>#2,623,937 in Toys &amp; Games (See Top 100 ...        []   \n",
              "\n",
              "           main_cat similar_item date price        asin  \\\n",
              "0  Toys &amp; Games                          0042000742   \n",
              "\n",
              "                                            imageURL  \\\n",
              "0  [https://images-na.ssl-images-amazon.com/image...   \n",
              "\n",
              "                                     imageURLHighRes details  \n",
              "0  [https://images-na.ssl-images-amazon.com/image...     NaN  "
            ],
            "text/html": [
              "\n",
              "  <div id=\"df-33e5585a-1f35-46a1-a300-005f2deb6b22\">\n",
              "    <div class=\"colab-df-container\">\n",
              "      <div>\n",
              "<style scoped>\n",
              "    .dataframe tbody tr th:only-of-type {\n",
              "        vertical-align: middle;\n",
              "    }\n",
              "\n",
              "    .dataframe tbody tr th {\n",
              "        vertical-align: top;\n",
              "    }\n",
              "\n",
              "    .dataframe thead th {\n",
              "        text-align: right;\n",
              "    }\n",
              "</style>\n",
              "<table border=\"1\" class=\"dataframe\">\n",
              "  <thead>\n",
              "    <tr style=\"text-align: right;\">\n",
              "      <th></th>\n",
              "      <th>category</th>\n",
              "      <th>tech1</th>\n",
              "      <th>description</th>\n",
              "      <th>fit</th>\n",
              "      <th>title</th>\n",
              "      <th>also_buy</th>\n",
              "      <th>tech2</th>\n",
              "      <th>brand</th>\n",
              "      <th>feature</th>\n",
              "      <th>rank</th>\n",
              "      <th>also_view</th>\n",
              "      <th>main_cat</th>\n",
              "      <th>similar_item</th>\n",
              "      <th>date</th>\n",
              "      <th>price</th>\n",
              "      <th>asin</th>\n",
              "      <th>imageURL</th>\n",
              "      <th>imageURLHighRes</th>\n",
              "      <th>details</th>\n",
              "    </tr>\n",
              "  </thead>\n",
              "  <tbody>\n",
              "    <tr>\n",
              "      <th>0</th>\n",
              "      <td>[Video Games, PC, Games]</td>\n",
              "      <td></td>\n",
              "      <td>[]</td>\n",
              "      <td></td>\n",
              "      <td>Reversi Sensory Challenger</td>\n",
              "      <td>[]</td>\n",
              "      <td></td>\n",
              "      <td>Fidelity Electronics</td>\n",
              "      <td>[]</td>\n",
              "      <td>[&gt;#2,623,937 in Toys &amp;amp; Games (See Top 100 ...</td>\n",
              "      <td>[]</td>\n",
              "      <td>Toys &amp;amp; Games</td>\n",
              "      <td></td>\n",
              "      <td></td>\n",
              "      <td></td>\n",
              "      <td>0042000742</td>\n",
              "      <td>[https://images-na.ssl-images-amazon.com/image...</td>\n",
              "      <td>[https://images-na.ssl-images-amazon.com/image...</td>\n",
              "      <td>NaN</td>\n",
              "    </tr>\n",
              "  </tbody>\n",
              "</table>\n",
              "</div>\n",
              "      <button class=\"colab-df-convert\" onclick=\"convertToInteractive('df-33e5585a-1f35-46a1-a300-005f2deb6b22')\"\n",
              "              title=\"Convert this dataframe to an interactive table.\"\n",
              "              style=\"display:none;\">\n",
              "        \n",
              "  <svg xmlns=\"http://www.w3.org/2000/svg\" height=\"24px\"viewBox=\"0 0 24 24\"\n",
              "       width=\"24px\">\n",
              "    <path d=\"M0 0h24v24H0V0z\" fill=\"none\"/>\n",
              "    <path d=\"M18.56 5.44l.94 2.06.94-2.06 2.06-.94-2.06-.94-.94-2.06-.94 2.06-2.06.94zm-11 1L8.5 8.5l.94-2.06 2.06-.94-2.06-.94L8.5 2.5l-.94 2.06-2.06.94zm10 10l.94 2.06.94-2.06 2.06-.94-2.06-.94-.94-2.06-.94 2.06-2.06.94z\"/><path d=\"M17.41 7.96l-1.37-1.37c-.4-.4-.92-.59-1.43-.59-.52 0-1.04.2-1.43.59L10.3 9.45l-7.72 7.72c-.78.78-.78 2.05 0 2.83L4 21.41c.39.39.9.59 1.41.59.51 0 1.02-.2 1.41-.59l7.78-7.78 2.81-2.81c.8-.78.8-2.07 0-2.86zM5.41 20L4 18.59l7.72-7.72 1.47 1.35L5.41 20z\"/>\n",
              "  </svg>\n",
              "      </button>\n",
              "      \n",
              "  <style>\n",
              "    .colab-df-container {\n",
              "      display:flex;\n",
              "      flex-wrap:wrap;\n",
              "      gap: 12px;\n",
              "    }\n",
              "\n",
              "    .colab-df-convert {\n",
              "      background-color: #E8F0FE;\n",
              "      border: none;\n",
              "      border-radius: 50%;\n",
              "      cursor: pointer;\n",
              "      display: none;\n",
              "      fill: #1967D2;\n",
              "      height: 32px;\n",
              "      padding: 0 0 0 0;\n",
              "      width: 32px;\n",
              "    }\n",
              "\n",
              "    .colab-df-convert:hover {\n",
              "      background-color: #E2EBFA;\n",
              "      box-shadow: 0px 1px 2px rgba(60, 64, 67, 0.3), 0px 1px 3px 1px rgba(60, 64, 67, 0.15);\n",
              "      fill: #174EA6;\n",
              "    }\n",
              "\n",
              "    [theme=dark] .colab-df-convert {\n",
              "      background-color: #3B4455;\n",
              "      fill: #D2E3FC;\n",
              "    }\n",
              "\n",
              "    [theme=dark] .colab-df-convert:hover {\n",
              "      background-color: #434B5C;\n",
              "      box-shadow: 0px 1px 3px 1px rgba(0, 0, 0, 0.15);\n",
              "      filter: drop-shadow(0px 1px 2px rgba(0, 0, 0, 0.3));\n",
              "      fill: #FFFFFF;\n",
              "    }\n",
              "  </style>\n",
              "\n",
              "      <script>\n",
              "        const buttonEl =\n",
              "          document.querySelector('#df-33e5585a-1f35-46a1-a300-005f2deb6b22 button.colab-df-convert');\n",
              "        buttonEl.style.display =\n",
              "          google.colab.kernel.accessAllowed ? 'block' : 'none';\n",
              "\n",
              "        async function convertToInteractive(key) {\n",
              "          const element = document.querySelector('#df-33e5585a-1f35-46a1-a300-005f2deb6b22');\n",
              "          const dataTable =\n",
              "            await google.colab.kernel.invokeFunction('convertToInteractive',\n",
              "                                                     [key], {});\n",
              "          if (!dataTable) return;\n",
              "\n",
              "          const docLinkHtml = 'Like what you see? Visit the ' +\n",
              "            '<a target=\"_blank\" href=https://colab.research.google.com/notebooks/data_table.ipynb>data table notebook</a>'\n",
              "            + ' to learn more about interactive tables.';\n",
              "          element.innerHTML = '';\n",
              "          dataTable['output_type'] = 'display_data';\n",
              "          await google.colab.output.renderOutput(dataTable, element);\n",
              "          const docLink = document.createElement('div');\n",
              "          docLink.innerHTML = docLinkHtml;\n",
              "          element.appendChild(docLink);\n",
              "        }\n",
              "      </script>\n",
              "    </div>\n",
              "  </div>\n",
              "  "
            ]
          },
          "metadata": {},
          "execution_count": 6
        }
      ],
      "source": [
        "meta.head(1)"
      ]
    },
    {
      "cell_type": "code",
      "source": [
        "video.head(2)"
      ],
      "metadata": {
        "colab": {
          "base_uri": "https://localhost:8080/",
          "height": 332
        },
        "id": "__u9RCQVRVjs",
        "outputId": "ee14202b-71b5-4c84-986a-5f4df5afe1e3"
      },
      "id": "__u9RCQVRVjs",
      "execution_count": 7,
      "outputs": [
        {
          "output_type": "execute_result",
          "data": {
            "text/plain": [
              "   overall  reviewTime      reviewerID        asin  \\\n",
              "0        1  01 2, 2018  A16FEXIKAPT24U  B00000JRSB   \n",
              "1        5  01 2, 2018  A3ISBEPYLY8IMO  B00000JRSB   \n",
              "\n",
              "                        style    reviewerName  \\\n",
              "0  {'Format:': ' Video Game'}  Nicholas Sabin   \n",
              "1  {'Format:': ' Video Game'}           Jimmy   \n",
              "\n",
              "                                          reviewText  \\\n",
              "0            Game disc was cracked thats pretty lame   \n",
              "1  Received this in perfect condition. Great rese...   \n",
              "\n",
              "                                             summary  unixReviewTime  \\\n",
              "0                            Game disc 1 was cracked      1514851200   \n",
              "1  Received this in perfect condition. Great rese...      1514851200   \n",
              "\n",
              "   verified vote image  \n",
              "0       NaN  NaN   NaN  \n",
              "1       1.0  NaN   NaN  "
            ],
            "text/html": [
              "\n",
              "  <div id=\"df-e6567f61-a432-4c36-8f61-e0e633d978ab\">\n",
              "    <div class=\"colab-df-container\">\n",
              "      <div>\n",
              "<style scoped>\n",
              "    .dataframe tbody tr th:only-of-type {\n",
              "        vertical-align: middle;\n",
              "    }\n",
              "\n",
              "    .dataframe tbody tr th {\n",
              "        vertical-align: top;\n",
              "    }\n",
              "\n",
              "    .dataframe thead th {\n",
              "        text-align: right;\n",
              "    }\n",
              "</style>\n",
              "<table border=\"1\" class=\"dataframe\">\n",
              "  <thead>\n",
              "    <tr style=\"text-align: right;\">\n",
              "      <th></th>\n",
              "      <th>overall</th>\n",
              "      <th>reviewTime</th>\n",
              "      <th>reviewerID</th>\n",
              "      <th>asin</th>\n",
              "      <th>style</th>\n",
              "      <th>reviewerName</th>\n",
              "      <th>reviewText</th>\n",
              "      <th>summary</th>\n",
              "      <th>unixReviewTime</th>\n",
              "      <th>verified</th>\n",
              "      <th>vote</th>\n",
              "      <th>image</th>\n",
              "    </tr>\n",
              "  </thead>\n",
              "  <tbody>\n",
              "    <tr>\n",
              "      <th>0</th>\n",
              "      <td>1</td>\n",
              "      <td>01 2, 2018</td>\n",
              "      <td>A16FEXIKAPT24U</td>\n",
              "      <td>B00000JRSB</td>\n",
              "      <td>{'Format:': ' Video Game'}</td>\n",
              "      <td>Nicholas Sabin</td>\n",
              "      <td>Game disc was cracked thats pretty lame</td>\n",
              "      <td>Game disc 1 was cracked</td>\n",
              "      <td>1514851200</td>\n",
              "      <td>NaN</td>\n",
              "      <td>NaN</td>\n",
              "      <td>NaN</td>\n",
              "    </tr>\n",
              "    <tr>\n",
              "      <th>1</th>\n",
              "      <td>5</td>\n",
              "      <td>01 2, 2018</td>\n",
              "      <td>A3ISBEPYLY8IMO</td>\n",
              "      <td>B00000JRSB</td>\n",
              "      <td>{'Format:': ' Video Game'}</td>\n",
              "      <td>Jimmy</td>\n",
              "      <td>Received this in perfect condition. Great rese...</td>\n",
              "      <td>Received this in perfect condition. Great rese...</td>\n",
              "      <td>1514851200</td>\n",
              "      <td>1.0</td>\n",
              "      <td>NaN</td>\n",
              "      <td>NaN</td>\n",
              "    </tr>\n",
              "  </tbody>\n",
              "</table>\n",
              "</div>\n",
              "      <button class=\"colab-df-convert\" onclick=\"convertToInteractive('df-e6567f61-a432-4c36-8f61-e0e633d978ab')\"\n",
              "              title=\"Convert this dataframe to an interactive table.\"\n",
              "              style=\"display:none;\">\n",
              "        \n",
              "  <svg xmlns=\"http://www.w3.org/2000/svg\" height=\"24px\"viewBox=\"0 0 24 24\"\n",
              "       width=\"24px\">\n",
              "    <path d=\"M0 0h24v24H0V0z\" fill=\"none\"/>\n",
              "    <path d=\"M18.56 5.44l.94 2.06.94-2.06 2.06-.94-2.06-.94-.94-2.06-.94 2.06-2.06.94zm-11 1L8.5 8.5l.94-2.06 2.06-.94-2.06-.94L8.5 2.5l-.94 2.06-2.06.94zm10 10l.94 2.06.94-2.06 2.06-.94-2.06-.94-.94-2.06-.94 2.06-2.06.94z\"/><path d=\"M17.41 7.96l-1.37-1.37c-.4-.4-.92-.59-1.43-.59-.52 0-1.04.2-1.43.59L10.3 9.45l-7.72 7.72c-.78.78-.78 2.05 0 2.83L4 21.41c.39.39.9.59 1.41.59.51 0 1.02-.2 1.41-.59l7.78-7.78 2.81-2.81c.8-.78.8-2.07 0-2.86zM5.41 20L4 18.59l7.72-7.72 1.47 1.35L5.41 20z\"/>\n",
              "  </svg>\n",
              "      </button>\n",
              "      \n",
              "  <style>\n",
              "    .colab-df-container {\n",
              "      display:flex;\n",
              "      flex-wrap:wrap;\n",
              "      gap: 12px;\n",
              "    }\n",
              "\n",
              "    .colab-df-convert {\n",
              "      background-color: #E8F0FE;\n",
              "      border: none;\n",
              "      border-radius: 50%;\n",
              "      cursor: pointer;\n",
              "      display: none;\n",
              "      fill: #1967D2;\n",
              "      height: 32px;\n",
              "      padding: 0 0 0 0;\n",
              "      width: 32px;\n",
              "    }\n",
              "\n",
              "    .colab-df-convert:hover {\n",
              "      background-color: #E2EBFA;\n",
              "      box-shadow: 0px 1px 2px rgba(60, 64, 67, 0.3), 0px 1px 3px 1px rgba(60, 64, 67, 0.15);\n",
              "      fill: #174EA6;\n",
              "    }\n",
              "\n",
              "    [theme=dark] .colab-df-convert {\n",
              "      background-color: #3B4455;\n",
              "      fill: #D2E3FC;\n",
              "    }\n",
              "\n",
              "    [theme=dark] .colab-df-convert:hover {\n",
              "      background-color: #434B5C;\n",
              "      box-shadow: 0px 1px 3px 1px rgba(0, 0, 0, 0.15);\n",
              "      filter: drop-shadow(0px 1px 2px rgba(0, 0, 0, 0.3));\n",
              "      fill: #FFFFFF;\n",
              "    }\n",
              "  </style>\n",
              "\n",
              "      <script>\n",
              "        const buttonEl =\n",
              "          document.querySelector('#df-e6567f61-a432-4c36-8f61-e0e633d978ab button.colab-df-convert');\n",
              "        buttonEl.style.display =\n",
              "          google.colab.kernel.accessAllowed ? 'block' : 'none';\n",
              "\n",
              "        async function convertToInteractive(key) {\n",
              "          const element = document.querySelector('#df-e6567f61-a432-4c36-8f61-e0e633d978ab');\n",
              "          const dataTable =\n",
              "            await google.colab.kernel.invokeFunction('convertToInteractive',\n",
              "                                                     [key], {});\n",
              "          if (!dataTable) return;\n",
              "\n",
              "          const docLinkHtml = 'Like what you see? Visit the ' +\n",
              "            '<a target=\"_blank\" href=https://colab.research.google.com/notebooks/data_table.ipynb>data table notebook</a>'\n",
              "            + ' to learn more about interactive tables.';\n",
              "          element.innerHTML = '';\n",
              "          dataTable['output_type'] = 'display_data';\n",
              "          await google.colab.output.renderOutput(dataTable, element);\n",
              "          const docLink = document.createElement('div');\n",
              "          docLink.innerHTML = docLinkHtml;\n",
              "          element.appendChild(docLink);\n",
              "        }\n",
              "      </script>\n",
              "    </div>\n",
              "  </div>\n",
              "  "
            ]
          },
          "metadata": {},
          "execution_count": 7
        }
      ]
    },
    {
      "cell_type": "code",
      "source": [
        "video.dtypes"
      ],
      "metadata": {
        "colab": {
          "base_uri": "https://localhost:8080/"
        },
        "id": "M-QLVVHlgq2j",
        "outputId": "24648bb2-8d7d-40ff-f1ad-0e13d53a3df2"
      },
      "id": "M-QLVVHlgq2j",
      "execution_count": 8,
      "outputs": [
        {
          "output_type": "execute_result",
          "data": {
            "text/plain": [
              "overall             int64\n",
              "reviewTime         object\n",
              "reviewerID         object\n",
              "asin               object\n",
              "style              object\n",
              "reviewerName       object\n",
              "reviewText         object\n",
              "summary            object\n",
              "unixReviewTime      int64\n",
              "verified          float64\n",
              "vote               object\n",
              "image              object\n",
              "dtype: object"
            ]
          },
          "metadata": {},
          "execution_count": 8
        }
      ]
    },
    {
      "cell_type": "code",
      "execution_count": 9,
      "id": "b3325b31",
      "metadata": {
        "colab": {
          "base_uri": "https://localhost:8080/"
        },
        "id": "b3325b31",
        "outputId": "484ee389-7636-4912-f18c-212d4f6e6bf3"
      },
      "outputs": [
        {
          "output_type": "execute_result",
          "data": {
            "text/plain": [
              "overall                0\n",
              "reviewTime             0\n",
              "reviewerID             0\n",
              "asin                   0\n",
              "style             135402\n",
              "reviewerName          51\n",
              "reviewText           345\n",
              "summary              166\n",
              "unixReviewTime         0\n",
              "verified           69016\n",
              "vote              396439\n",
              "image             448911\n",
              "dtype: int64"
            ]
          },
          "metadata": {},
          "execution_count": 9
        }
      ],
      "source": [
        "video.isnull().sum()"
      ]
    },
    {
      "cell_type": "markdown",
      "id": "ec1d30fe",
      "metadata": {
        "id": "ec1d30fe"
      },
      "source": [
        "# Limpeza dos dados"
      ]
    },
    {
      "cell_type": "code",
      "execution_count": null,
      "id": "d6d49476",
      "metadata": {
        "id": "d6d49476"
      },
      "outputs": [],
      "source": [
        "# Para os valores faltantes da coluna review tex vamos preencher com 'Not comment'\n",
        "#video['reviewText'].fillna('Not comment', inplace=True)"
      ]
    },
    {
      "cell_type": "code",
      "execution_count": null,
      "id": "ee16b0ee",
      "metadata": {
        "id": "ee16b0ee"
      },
      "outputs": [],
      "source": [
        "# Da mesma forma para a colunna summary vamos preencher com 'Not summary'\n",
        "#video['summary'].fillna('Not summary', inplace=True)"
      ]
    },
    {
      "cell_type": "code",
      "execution_count": null,
      "id": "7a50bcbc",
      "metadata": {
        "id": "7a50bcbc"
      },
      "outputs": [],
      "source": [
        "# Também para o reviewerName\n",
        "#video['reviewerName'].fillna('Not Name', inplace=True)"
      ]
    },
    {
      "cell_type": "code",
      "execution_count": null,
      "id": "11ac298a",
      "metadata": {
        "id": "11ac298a"
      },
      "outputs": [],
      "source": [
        "# Igualmente para Image\n",
        "#video['image'].fillna('Not image', inplace=True)"
      ]
    },
    {
      "cell_type": "code",
      "source": [
        "backup = video.copy()"
      ],
      "metadata": {
        "id": "gmF-MZfmnXXg"
      },
      "id": "gmF-MZfmnXXg",
      "execution_count": 10,
      "outputs": []
    },
    {
      "cell_type": "code",
      "source": [
        "video = backup.copy()"
      ],
      "metadata": {
        "id": "pdjeouKInfYw"
      },
      "id": "pdjeouKInfYw",
      "execution_count": 11,
      "outputs": []
    },
    {
      "cell_type": "code",
      "source": [
        "video.isnull().sum()"
      ],
      "metadata": {
        "colab": {
          "base_uri": "https://localhost:8080/"
        },
        "id": "Ij5mkUhQf4cE",
        "outputId": "b97ef41d-f6db-41a9-8831-77a329ea0042"
      },
      "id": "Ij5mkUhQf4cE",
      "execution_count": 12,
      "outputs": [
        {
          "output_type": "execute_result",
          "data": {
            "text/plain": [
              "overall                0\n",
              "reviewTime             0\n",
              "reviewerID             0\n",
              "asin                   0\n",
              "style             135402\n",
              "reviewerName          51\n",
              "reviewText           345\n",
              "summary              166\n",
              "unixReviewTime         0\n",
              "verified           69016\n",
              "vote              396439\n",
              "image             448911\n",
              "dtype: int64"
            ]
          },
          "metadata": {},
          "execution_count": 12
        }
      ]
    },
    {
      "cell_type": "markdown",
      "source": [
        "Como temos muitos valores nulos na coluna vote, vamos excluí-la"
      ],
      "metadata": {
        "id": "kVidprdPojBn"
      },
      "id": "kVidprdPojBn"
    },
    {
      "cell_type": "code",
      "source": [
        "video.drop(columns=['vote', 'image'],inplace=True)"
      ],
      "metadata": {
        "id": "SePHzqOOoXLk"
      },
      "id": "SePHzqOOoXLk",
      "execution_count": 13,
      "outputs": []
    },
    {
      "cell_type": "markdown",
      "id": "ee651b97",
      "metadata": {
        "id": "ee651b97"
      },
      "source": [
        "# Classificação"
      ]
    },
    {
      "cell_type": "markdown",
      "id": "37ebddab",
      "metadata": {
        "id": "37ebddab"
      },
      "source": [
        "Na análise, observa-se vários valores faltantes na coluna verified, para preenche-lás, iremos fazer um modelo de classificação."
      ]
    },
    {
      "cell_type": "code",
      "execution_count": 14,
      "id": "cdf091df",
      "metadata": {
        "id": "cdf091df"
      },
      "outputs": [],
      "source": [
        "df_class = video[['overall','verified','unixReviewTime']].dropna()"
      ]
    },
    {
      "cell_type": "code",
      "execution_count": 15,
      "id": "a2eee033",
      "metadata": {
        "id": "a2eee033"
      },
      "outputs": [],
      "source": [
        "X = df_class.drop(columns=['verified'])\n",
        "Y = df_class[['verified']]"
      ]
    },
    {
      "cell_type": "code",
      "execution_count": 16,
      "id": "999d9b03",
      "metadata": {
        "id": "999d9b03"
      },
      "outputs": [],
      "source": [
        "X_train, X_test, y_train, y_test = train_test_split(X, Y, test_size=0.2, random_state=42)"
      ]
    },
    {
      "cell_type": "markdown",
      "source": [
        "## KNN"
      ],
      "metadata": {
        "id": "-KcGE6xUe9Ac"
      },
      "id": "-KcGE6xUe9Ac"
    },
    {
      "cell_type": "code",
      "source": [
        "results = {'' : ['KNN', 'Random Forest', 'Logistic Regression', 'Xgboosting'],\n",
        "           'Accuracy' : [],\n",
        "           'Precision' : [],\n",
        "           'Recall' : [],\n",
        "           'F1-score' : []}"
      ],
      "metadata": {
        "id": "hjhxV_hdtc6y"
      },
      "id": "hjhxV_hdtc6y",
      "execution_count": 17,
      "outputs": []
    },
    {
      "cell_type": "code",
      "source": [
        "params = {\n",
        "    'n_neighbors' : [5, 6, 7, 10]\n",
        "}\n",
        "\n",
        "clf = GridSearchCV(KNeighborsClassifier(), param_grid=params, scoring='f1', cv=5)\n",
        "clf.fit(X_train, y_train)"
      ],
      "metadata": {
        "colab": {
          "base_uri": "https://localhost:8080/"
        },
        "id": "fPhECUb-e-aP",
        "outputId": "5751d8a9-e603-433d-8e14-e9892b2a5529"
      },
      "id": "fPhECUb-e-aP",
      "execution_count": 18,
      "outputs": [
        {
          "output_type": "execute_result",
          "data": {
            "text/plain": [
              "GridSearchCV(cv=5, estimator=KNeighborsClassifier(),\n",
              "             param_grid={'n_neighbors': [5, 6, 7, 10]}, scoring='f1')"
            ]
          },
          "metadata": {},
          "execution_count": 18
        }
      ]
    },
    {
      "cell_type": "code",
      "source": [
        "y_pred = clf.predict(X_test)\n",
        "\n",
        "results['Accuracy'].append(accuracy_score(y_test, y_pred))\n",
        "results['Precision'].append(precision_score(y_test, y_pred))\n",
        "results['Recall'].append(recall_score(y_test, y_pred))\n",
        "results['F1-score'].append(f1_score(y_test, y_pred))"
      ],
      "metadata": {
        "id": "jeIk0Fi6swAN"
      },
      "id": "jeIk0Fi6swAN",
      "execution_count": 19,
      "outputs": []
    },
    {
      "cell_type": "code",
      "source": [
        "clf_knn=clf.best_estimator_"
      ],
      "metadata": {
        "id": "vOkv8sa8tLE8"
      },
      "id": "vOkv8sa8tLE8",
      "execution_count": 20,
      "outputs": []
    },
    {
      "cell_type": "markdown",
      "source": [
        "## Random Forest"
      ],
      "metadata": {
        "id": "ABCGOFxee6Gv"
      },
      "id": "ABCGOFxee6Gv"
    },
    {
      "cell_type": "code",
      "execution_count": 21,
      "id": "87740d45",
      "metadata": {
        "id": "87740d45",
        "colab": {
          "base_uri": "https://localhost:8080/"
        },
        "outputId": "0ef62a41-343f-467a-f357-fa03a7ceaa5a"
      },
      "outputs": [
        {
          "output_type": "execute_result",
          "data": {
            "text/plain": [
              "GridSearchCV(cv=5, estimator=RandomForestClassifier(),\n",
              "             param_grid={'class_weight': [None, 'balanced'],\n",
              "                         'max_depth': [2, 5, 7],\n",
              "                         'n_estimators': [100, 200, 300]},\n",
              "             scoring='f1')"
            ]
          },
          "metadata": {},
          "execution_count": 21
        }
      ],
      "source": [
        "params = {\n",
        "    'max_depth' : [2,5,7],\n",
        "    'n_estimators' : [100,200,300],\n",
        "    'class_weight' : [None, 'balanced']\n",
        "}\n",
        "\n",
        "clf = GridSearchCV(RandomForestClassifier(), param_grid=params, scoring='f1',cv=5)\n",
        "\n",
        "clf.fit(X_train, y_train)"
      ]
    },
    {
      "cell_type": "code",
      "source": [
        "y_pred = clf.predict(X_test)\n",
        "\n",
        "results['Accuracy'].append(accuracy_score(y_test, y_pred))\n",
        "results['Precision'].append(precision_score(y_test, y_pred))\n",
        "results['Recall'].append(recall_score(y_test, y_pred))\n",
        "results['F1-score'].append(f1_score(y_test, y_pred))"
      ],
      "metadata": {
        "id": "HjoldhHbxnZv"
      },
      "id": "HjoldhHbxnZv",
      "execution_count": 22,
      "outputs": []
    },
    {
      "cell_type": "code",
      "source": [
        "clf_rf = clf.best_estimator_"
      ],
      "metadata": {
        "id": "y6L_xgV4xndP"
      },
      "id": "y6L_xgV4xndP",
      "execution_count": 23,
      "outputs": []
    },
    {
      "cell_type": "markdown",
      "source": [
        "## Logistic Regression"
      ],
      "metadata": {
        "id": "eDKGus4Wx7KC"
      },
      "id": "eDKGus4Wx7KC"
    },
    {
      "cell_type": "code",
      "source": [
        "params = {\n",
        "    'penalty' : ['l1', 'l2'],\n",
        "    'C' : [0.01, 0.1, 1],\n",
        "    'class_weight' : [None, 'balanced']\n",
        "}\n",
        "clf = GridSearchCV(LogisticRegression(), param_grid=params, scoring='f1',cv=5)\n",
        "\n",
        "clf.fit(X_train, y_train)"
      ],
      "metadata": {
        "colab": {
          "base_uri": "https://localhost:8080/"
        },
        "id": "sSoRyrygx9x4",
        "outputId": "8d9bf98d-cc00-440c-e3b6-20fdefcbe123"
      },
      "id": "sSoRyrygx9x4",
      "execution_count": 24,
      "outputs": [
        {
          "output_type": "execute_result",
          "data": {
            "text/plain": [
              "GridSearchCV(cv=5, estimator=LogisticRegression(),\n",
              "             param_grid={'C': [0.01, 0.1, 1],\n",
              "                         'class_weight': [None, 'balanced'],\n",
              "                         'penalty': ['l1', 'l2']},\n",
              "             scoring='f1')"
            ]
          },
          "metadata": {},
          "execution_count": 24
        }
      ]
    },
    {
      "cell_type": "code",
      "source": [
        "y_pred = clf.predict(X_test)\n",
        "\n",
        "results['Accuracy'].append(accuracy_score(y_test, y_pred))\n",
        "results['Precision'].append(precision_score(y_test, y_pred))\n",
        "results['Recall'].append(recall_score(y_test, y_pred))\n",
        "results['F1-score'].append(f1_score(y_test, y_pred))"
      ],
      "metadata": {
        "id": "1wmkBw3bzXXl"
      },
      "execution_count": 25,
      "outputs": [],
      "id": "1wmkBw3bzXXl"
    },
    {
      "cell_type": "code",
      "source": [
        "clf_lg = clf.best_estimator_"
      ],
      "metadata": {
        "id": "5Cq9JQZzzXXw"
      },
      "execution_count": 26,
      "outputs": [],
      "id": "5Cq9JQZzzXXw"
    },
    {
      "cell_type": "markdown",
      "source": [
        "## Xgboosting"
      ],
      "metadata": {
        "id": "1tjYevLZzd29"
      },
      "id": "1tjYevLZzd29"
    },
    {
      "cell_type": "code",
      "source": [
        "params = {\n",
        "    'max_depth' : [6,7,8,9],\n",
        "    'gamma' : [0, 0.01, 0.1]\n",
        "}\n",
        "clf = GridSearchCV(XGBClassifier(), param_grid=params, scoring='f1',cv=5)\n",
        "\n",
        "clf.fit(X_train, y_train)"
      ],
      "metadata": {
        "colab": {
          "base_uri": "https://localhost:8080/"
        },
        "id": "fDl5QnUdzgFP",
        "outputId": "088bf2ce-32cd-4998-b974-5b5f12b01763"
      },
      "id": "fDl5QnUdzgFP",
      "execution_count": 27,
      "outputs": [
        {
          "output_type": "execute_result",
          "data": {
            "text/plain": [
              "GridSearchCV(cv=5, estimator=XGBClassifier(),\n",
              "             param_grid={'gamma': [0, 0.01, 0.1], 'max_depth': [6, 7, 8, 9]},\n",
              "             scoring='f1')"
            ]
          },
          "metadata": {},
          "execution_count": 27
        }
      ]
    },
    {
      "cell_type": "code",
      "source": [
        "y_pred = clf.predict(X_test)\n",
        "\n",
        "results['Accuracy'].append(accuracy_score(y_test, y_pred))\n",
        "results['Precision'].append(precision_score(y_test, y_pred))\n",
        "results['Recall'].append(recall_score(y_test, y_pred))\n",
        "results['F1-score'].append(f1_score(y_test, y_pred))"
      ],
      "metadata": {
        "id": "oRquiwYa0XbG"
      },
      "execution_count": 28,
      "outputs": [],
      "id": "oRquiwYa0XbG"
    },
    {
      "cell_type": "code",
      "source": [
        "clf_lg = clf.best_estimator_"
      ],
      "metadata": {
        "id": "dQWnEBgx0XbP"
      },
      "execution_count": 29,
      "outputs": [],
      "id": "dQWnEBgx0XbP"
    },
    {
      "cell_type": "code",
      "source": [
        "total_results = pd.DataFrame(results)\n",
        "\n",
        "total_results"
      ],
      "metadata": {
        "colab": {
          "base_uri": "https://localhost:8080/",
          "height": 0
        },
        "id": "3InOH2gz9a1t",
        "outputId": "000897e3-7f67-446d-9191-7beea329c0c4"
      },
      "id": "3InOH2gz9a1t",
      "execution_count": 30,
      "outputs": [
        {
          "output_type": "execute_result",
          "data": {
            "text/plain": [
              "                        Accuracy  Precision    Recall  F1-score\n",
              "0                  KNN  0.851385   0.869515  0.962343  0.913577\n",
              "1        Random Forest  0.860876   0.867293  0.979419  0.919952\n",
              "2  Logistic Regression  0.816240   0.816240  1.000000  0.898824\n",
              "3           Xgboosting  0.860876   0.867521  0.979069  0.919926"
            ],
            "text/html": [
              "\n",
              "  <div id=\"df-5df31ac8-99b0-4105-a14c-8f8aef10aba8\">\n",
              "    <div class=\"colab-df-container\">\n",
              "      <div>\n",
              "<style scoped>\n",
              "    .dataframe tbody tr th:only-of-type {\n",
              "        vertical-align: middle;\n",
              "    }\n",
              "\n",
              "    .dataframe tbody tr th {\n",
              "        vertical-align: top;\n",
              "    }\n",
              "\n",
              "    .dataframe thead th {\n",
              "        text-align: right;\n",
              "    }\n",
              "</style>\n",
              "<table border=\"1\" class=\"dataframe\">\n",
              "  <thead>\n",
              "    <tr style=\"text-align: right;\">\n",
              "      <th></th>\n",
              "      <th></th>\n",
              "      <th>Accuracy</th>\n",
              "      <th>Precision</th>\n",
              "      <th>Recall</th>\n",
              "      <th>F1-score</th>\n",
              "    </tr>\n",
              "  </thead>\n",
              "  <tbody>\n",
              "    <tr>\n",
              "      <th>0</th>\n",
              "      <td>KNN</td>\n",
              "      <td>0.851385</td>\n",
              "      <td>0.869515</td>\n",
              "      <td>0.962343</td>\n",
              "      <td>0.913577</td>\n",
              "    </tr>\n",
              "    <tr>\n",
              "      <th>1</th>\n",
              "      <td>Random Forest</td>\n",
              "      <td>0.860876</td>\n",
              "      <td>0.867293</td>\n",
              "      <td>0.979419</td>\n",
              "      <td>0.919952</td>\n",
              "    </tr>\n",
              "    <tr>\n",
              "      <th>2</th>\n",
              "      <td>Logistic Regression</td>\n",
              "      <td>0.816240</td>\n",
              "      <td>0.816240</td>\n",
              "      <td>1.000000</td>\n",
              "      <td>0.898824</td>\n",
              "    </tr>\n",
              "    <tr>\n",
              "      <th>3</th>\n",
              "      <td>Xgboosting</td>\n",
              "      <td>0.860876</td>\n",
              "      <td>0.867521</td>\n",
              "      <td>0.979069</td>\n",
              "      <td>0.919926</td>\n",
              "    </tr>\n",
              "  </tbody>\n",
              "</table>\n",
              "</div>\n",
              "      <button class=\"colab-df-convert\" onclick=\"convertToInteractive('df-5df31ac8-99b0-4105-a14c-8f8aef10aba8')\"\n",
              "              title=\"Convert this dataframe to an interactive table.\"\n",
              "              style=\"display:none;\">\n",
              "        \n",
              "  <svg xmlns=\"http://www.w3.org/2000/svg\" height=\"24px\"viewBox=\"0 0 24 24\"\n",
              "       width=\"24px\">\n",
              "    <path d=\"M0 0h24v24H0V0z\" fill=\"none\"/>\n",
              "    <path d=\"M18.56 5.44l.94 2.06.94-2.06 2.06-.94-2.06-.94-.94-2.06-.94 2.06-2.06.94zm-11 1L8.5 8.5l.94-2.06 2.06-.94-2.06-.94L8.5 2.5l-.94 2.06-2.06.94zm10 10l.94 2.06.94-2.06 2.06-.94-2.06-.94-.94-2.06-.94 2.06-2.06.94z\"/><path d=\"M17.41 7.96l-1.37-1.37c-.4-.4-.92-.59-1.43-.59-.52 0-1.04.2-1.43.59L10.3 9.45l-7.72 7.72c-.78.78-.78 2.05 0 2.83L4 21.41c.39.39.9.59 1.41.59.51 0 1.02-.2 1.41-.59l7.78-7.78 2.81-2.81c.8-.78.8-2.07 0-2.86zM5.41 20L4 18.59l7.72-7.72 1.47 1.35L5.41 20z\"/>\n",
              "  </svg>\n",
              "      </button>\n",
              "      \n",
              "  <style>\n",
              "    .colab-df-container {\n",
              "      display:flex;\n",
              "      flex-wrap:wrap;\n",
              "      gap: 12px;\n",
              "    }\n",
              "\n",
              "    .colab-df-convert {\n",
              "      background-color: #E8F0FE;\n",
              "      border: none;\n",
              "      border-radius: 50%;\n",
              "      cursor: pointer;\n",
              "      display: none;\n",
              "      fill: #1967D2;\n",
              "      height: 32px;\n",
              "      padding: 0 0 0 0;\n",
              "      width: 32px;\n",
              "    }\n",
              "\n",
              "    .colab-df-convert:hover {\n",
              "      background-color: #E2EBFA;\n",
              "      box-shadow: 0px 1px 2px rgba(60, 64, 67, 0.3), 0px 1px 3px 1px rgba(60, 64, 67, 0.15);\n",
              "      fill: #174EA6;\n",
              "    }\n",
              "\n",
              "    [theme=dark] .colab-df-convert {\n",
              "      background-color: #3B4455;\n",
              "      fill: #D2E3FC;\n",
              "    }\n",
              "\n",
              "    [theme=dark] .colab-df-convert:hover {\n",
              "      background-color: #434B5C;\n",
              "      box-shadow: 0px 1px 3px 1px rgba(0, 0, 0, 0.15);\n",
              "      filter: drop-shadow(0px 1px 2px rgba(0, 0, 0, 0.3));\n",
              "      fill: #FFFFFF;\n",
              "    }\n",
              "  </style>\n",
              "\n",
              "      <script>\n",
              "        const buttonEl =\n",
              "          document.querySelector('#df-5df31ac8-99b0-4105-a14c-8f8aef10aba8 button.colab-df-convert');\n",
              "        buttonEl.style.display =\n",
              "          google.colab.kernel.accessAllowed ? 'block' : 'none';\n",
              "\n",
              "        async function convertToInteractive(key) {\n",
              "          const element = document.querySelector('#df-5df31ac8-99b0-4105-a14c-8f8aef10aba8');\n",
              "          const dataTable =\n",
              "            await google.colab.kernel.invokeFunction('convertToInteractive',\n",
              "                                                     [key], {});\n",
              "          if (!dataTable) return;\n",
              "\n",
              "          const docLinkHtml = 'Like what you see? Visit the ' +\n",
              "            '<a target=\"_blank\" href=https://colab.research.google.com/notebooks/data_table.ipynb>data table notebook</a>'\n",
              "            + ' to learn more about interactive tables.';\n",
              "          element.innerHTML = '';\n",
              "          dataTable['output_type'] = 'display_data';\n",
              "          await google.colab.output.renderOutput(dataTable, element);\n",
              "          const docLink = document.createElement('div');\n",
              "          docLink.innerHTML = docLinkHtml;\n",
              "          element.appendChild(docLink);\n",
              "        }\n",
              "      </script>\n",
              "    </div>\n",
              "  </div>\n",
              "  "
            ]
          },
          "metadata": {},
          "execution_count": 30
        }
      ]
    },
    {
      "cell_type": "markdown",
      "source": [
        "# Para prever os valores nulos da variável verified vamos utiliizar o modelo treinado Random Forest"
      ],
      "metadata": {
        "id": "1xkYpz6ACBCW"
      },
      "id": "1xkYpz6ACBCW"
    },
    {
      "cell_type": "code",
      "source": [
        "df_nan = video[video['verified'].isnull()].reset_index().drop(columns=['index'])"
      ],
      "metadata": {
        "id": "A6XF3XTkCVMx"
      },
      "id": "A6XF3XTkCVMx",
      "execution_count": 31,
      "outputs": []
    },
    {
      "cell_type": "code",
      "source": [
        "df_nan.head(2)"
      ],
      "metadata": {
        "colab": {
          "base_uri": "https://localhost:8080/",
          "height": 280
        },
        "id": "YeHt8y1ZEYmR",
        "outputId": "f77f2b1d-1275-463d-d3b1-ac0a2028ddc6"
      },
      "id": "YeHt8y1ZEYmR",
      "execution_count": 32,
      "outputs": [
        {
          "output_type": "execute_result",
          "data": {
            "text/plain": [
              "   overall   reviewTime      reviewerID        asin  \\\n",
              "0        1   01 2, 2018  A16FEXIKAPT24U  B00000JRSB   \n",
              "1        5  08 28, 2017  A3562CUJCAN1JW  B00000JRSB   \n",
              "\n",
              "                        style    reviewerName  \\\n",
              "0  {'Format:': ' Video Game'}  Nicholas Sabin   \n",
              "1  {'Format:': ' Video Game'}           David   \n",
              "\n",
              "                                reviewText                  summary  \\\n",
              "0  Game disc was cracked thats pretty lame  Game disc 1 was cracked   \n",
              "1                               A classic!               Five Stars   \n",
              "\n",
              "   unixReviewTime  verified  \n",
              "0      1514851200       NaN  \n",
              "1      1503878400       NaN  "
            ],
            "text/html": [
              "\n",
              "  <div id=\"df-121ea7c4-ecf3-427f-9114-7987376e40b3\">\n",
              "    <div class=\"colab-df-container\">\n",
              "      <div>\n",
              "<style scoped>\n",
              "    .dataframe tbody tr th:only-of-type {\n",
              "        vertical-align: middle;\n",
              "    }\n",
              "\n",
              "    .dataframe tbody tr th {\n",
              "        vertical-align: top;\n",
              "    }\n",
              "\n",
              "    .dataframe thead th {\n",
              "        text-align: right;\n",
              "    }\n",
              "</style>\n",
              "<table border=\"1\" class=\"dataframe\">\n",
              "  <thead>\n",
              "    <tr style=\"text-align: right;\">\n",
              "      <th></th>\n",
              "      <th>overall</th>\n",
              "      <th>reviewTime</th>\n",
              "      <th>reviewerID</th>\n",
              "      <th>asin</th>\n",
              "      <th>style</th>\n",
              "      <th>reviewerName</th>\n",
              "      <th>reviewText</th>\n",
              "      <th>summary</th>\n",
              "      <th>unixReviewTime</th>\n",
              "      <th>verified</th>\n",
              "    </tr>\n",
              "  </thead>\n",
              "  <tbody>\n",
              "    <tr>\n",
              "      <th>0</th>\n",
              "      <td>1</td>\n",
              "      <td>01 2, 2018</td>\n",
              "      <td>A16FEXIKAPT24U</td>\n",
              "      <td>B00000JRSB</td>\n",
              "      <td>{'Format:': ' Video Game'}</td>\n",
              "      <td>Nicholas Sabin</td>\n",
              "      <td>Game disc was cracked thats pretty lame</td>\n",
              "      <td>Game disc 1 was cracked</td>\n",
              "      <td>1514851200</td>\n",
              "      <td>NaN</td>\n",
              "    </tr>\n",
              "    <tr>\n",
              "      <th>1</th>\n",
              "      <td>5</td>\n",
              "      <td>08 28, 2017</td>\n",
              "      <td>A3562CUJCAN1JW</td>\n",
              "      <td>B00000JRSB</td>\n",
              "      <td>{'Format:': ' Video Game'}</td>\n",
              "      <td>David</td>\n",
              "      <td>A classic!</td>\n",
              "      <td>Five Stars</td>\n",
              "      <td>1503878400</td>\n",
              "      <td>NaN</td>\n",
              "    </tr>\n",
              "  </tbody>\n",
              "</table>\n",
              "</div>\n",
              "      <button class=\"colab-df-convert\" onclick=\"convertToInteractive('df-121ea7c4-ecf3-427f-9114-7987376e40b3')\"\n",
              "              title=\"Convert this dataframe to an interactive table.\"\n",
              "              style=\"display:none;\">\n",
              "        \n",
              "  <svg xmlns=\"http://www.w3.org/2000/svg\" height=\"24px\"viewBox=\"0 0 24 24\"\n",
              "       width=\"24px\">\n",
              "    <path d=\"M0 0h24v24H0V0z\" fill=\"none\"/>\n",
              "    <path d=\"M18.56 5.44l.94 2.06.94-2.06 2.06-.94-2.06-.94-.94-2.06-.94 2.06-2.06.94zm-11 1L8.5 8.5l.94-2.06 2.06-.94-2.06-.94L8.5 2.5l-.94 2.06-2.06.94zm10 10l.94 2.06.94-2.06 2.06-.94-2.06-.94-.94-2.06-.94 2.06-2.06.94z\"/><path d=\"M17.41 7.96l-1.37-1.37c-.4-.4-.92-.59-1.43-.59-.52 0-1.04.2-1.43.59L10.3 9.45l-7.72 7.72c-.78.78-.78 2.05 0 2.83L4 21.41c.39.39.9.59 1.41.59.51 0 1.02-.2 1.41-.59l7.78-7.78 2.81-2.81c.8-.78.8-2.07 0-2.86zM5.41 20L4 18.59l7.72-7.72 1.47 1.35L5.41 20z\"/>\n",
              "  </svg>\n",
              "      </button>\n",
              "      \n",
              "  <style>\n",
              "    .colab-df-container {\n",
              "      display:flex;\n",
              "      flex-wrap:wrap;\n",
              "      gap: 12px;\n",
              "    }\n",
              "\n",
              "    .colab-df-convert {\n",
              "      background-color: #E8F0FE;\n",
              "      border: none;\n",
              "      border-radius: 50%;\n",
              "      cursor: pointer;\n",
              "      display: none;\n",
              "      fill: #1967D2;\n",
              "      height: 32px;\n",
              "      padding: 0 0 0 0;\n",
              "      width: 32px;\n",
              "    }\n",
              "\n",
              "    .colab-df-convert:hover {\n",
              "      background-color: #E2EBFA;\n",
              "      box-shadow: 0px 1px 2px rgba(60, 64, 67, 0.3), 0px 1px 3px 1px rgba(60, 64, 67, 0.15);\n",
              "      fill: #174EA6;\n",
              "    }\n",
              "\n",
              "    [theme=dark] .colab-df-convert {\n",
              "      background-color: #3B4455;\n",
              "      fill: #D2E3FC;\n",
              "    }\n",
              "\n",
              "    [theme=dark] .colab-df-convert:hover {\n",
              "      background-color: #434B5C;\n",
              "      box-shadow: 0px 1px 3px 1px rgba(0, 0, 0, 0.15);\n",
              "      filter: drop-shadow(0px 1px 2px rgba(0, 0, 0, 0.3));\n",
              "      fill: #FFFFFF;\n",
              "    }\n",
              "  </style>\n",
              "\n",
              "      <script>\n",
              "        const buttonEl =\n",
              "          document.querySelector('#df-121ea7c4-ecf3-427f-9114-7987376e40b3 button.colab-df-convert');\n",
              "        buttonEl.style.display =\n",
              "          google.colab.kernel.accessAllowed ? 'block' : 'none';\n",
              "\n",
              "        async function convertToInteractive(key) {\n",
              "          const element = document.querySelector('#df-121ea7c4-ecf3-427f-9114-7987376e40b3');\n",
              "          const dataTable =\n",
              "            await google.colab.kernel.invokeFunction('convertToInteractive',\n",
              "                                                     [key], {});\n",
              "          if (!dataTable) return;\n",
              "\n",
              "          const docLinkHtml = 'Like what you see? Visit the ' +\n",
              "            '<a target=\"_blank\" href=https://colab.research.google.com/notebooks/data_table.ipynb>data table notebook</a>'\n",
              "            + ' to learn more about interactive tables.';\n",
              "          element.innerHTML = '';\n",
              "          dataTable['output_type'] = 'display_data';\n",
              "          await google.colab.output.renderOutput(dataTable, element);\n",
              "          const docLink = document.createElement('div');\n",
              "          docLink.innerHTML = docLinkHtml;\n",
              "          element.appendChild(docLink);\n",
              "        }\n",
              "      </script>\n",
              "    </div>\n",
              "  </div>\n",
              "  "
            ]
          },
          "metadata": {},
          "execution_count": 32
        }
      ]
    },
    {
      "cell_type": "code",
      "source": [
        "X = df_nan.drop(columns=['verified', 'reviewTime', 'reviewerID',\n",
        "                                'asin', 'style', 'reviewerName',\n",
        "                               'reviewText', 'summary'])"
      ],
      "metadata": {
        "id": "xWPdEX-FJdKp"
      },
      "id": "xWPdEX-FJdKp",
      "execution_count": 34,
      "outputs": []
    },
    {
      "cell_type": "code",
      "source": [
        "df_nan['verified'] = clf_rf.predict(X)"
      ],
      "metadata": {
        "id": "Lvq62_iKElMg"
      },
      "id": "Lvq62_iKElMg",
      "execution_count": 35,
      "outputs": []
    },
    {
      "cell_type": "markdown",
      "source": [
        "Agora, vamos concatenar o dataaset original com o previsto"
      ],
      "metadata": {
        "id": "vXH0KA5aMTdS"
      },
      "id": "vXH0KA5aMTdS"
    },
    {
      "cell_type": "code",
      "source": [
        "video.dropna(subset=['verified'],inplace=True)"
      ],
      "metadata": {
        "id": "zPcil9W5McaJ"
      },
      "id": "zPcil9W5McaJ",
      "execution_count": 36,
      "outputs": []
    },
    {
      "cell_type": "code",
      "source": [
        "video.isnull().sum()"
      ],
      "metadata": {
        "colab": {
          "base_uri": "https://localhost:8080/"
        },
        "id": "83fAa2yLM6j1",
        "outputId": "66cdf709-5f98-4abd-88b0-6b94103cb2d8"
      },
      "id": "83fAa2yLM6j1",
      "execution_count": 37,
      "outputs": [
        {
          "output_type": "execute_result",
          "data": {
            "text/plain": [
              "overall                0\n",
              "reviewTime             0\n",
              "reviewerID             0\n",
              "asin                   0\n",
              "style             114843\n",
              "reviewerName          40\n",
              "reviewText           294\n",
              "summary              139\n",
              "unixReviewTime         0\n",
              "verified               0\n",
              "dtype: int64"
            ]
          },
          "metadata": {},
          "execution_count": 37
        }
      ]
    },
    {
      "cell_type": "code",
      "source": [
        "df_final = pd.concat([video.reset_index().drop(columns=['index']), df_nan.reset_index().drop(columns=['index'])])"
      ],
      "metadata": {
        "id": "0z8QMSCHPcnE"
      },
      "id": "0z8QMSCHPcnE",
      "execution_count": 38,
      "outputs": []
    },
    {
      "cell_type": "code",
      "source": [
        "df_final.head(2)"
      ],
      "metadata": {
        "colab": {
          "base_uri": "https://localhost:8080/",
          "height": 315
        },
        "id": "zLr2O3fgeQnd",
        "outputId": "1297ce89-4cf7-4649-ba52-57890a408ae3"
      },
      "id": "zLr2O3fgeQnd",
      "execution_count": 47,
      "outputs": [
        {
          "output_type": "execute_result",
          "data": {
            "text/plain": [
              "   overall   reviewTime      reviewerID        asin  \\\n",
              "0        5   01 2, 2018  A3ISBEPYLY8IMO  B00000JRSB   \n",
              "1        5  12 21, 2017  A1RIUB1PZWLOVZ  B00000JRSB   \n",
              "\n",
              "                        style     reviewerName  \\\n",
              "0  {'Format:': ' Video Game'}            Jimmy   \n",
              "1  {'Format:': ' Video Game'}  Amazon Customer   \n",
              "\n",
              "                                          reviewText  \\\n",
              "0  Received this in perfect condition. Great rese...   \n",
              "1  I had a hard time finding this game locally or...   \n",
              "\n",
              "                                             summary  unixReviewTime  verified  \n",
              "0  Received this in perfect condition. Great rese...      1514851200       1.0  \n",
              "1               I am very pleased with this purchase      1513814400       1.0  "
            ],
            "text/html": [
              "\n",
              "  <div id=\"df-ae0690d8-7d32-4a77-bdaf-985a57519060\">\n",
              "    <div class=\"colab-df-container\">\n",
              "      <div>\n",
              "<style scoped>\n",
              "    .dataframe tbody tr th:only-of-type {\n",
              "        vertical-align: middle;\n",
              "    }\n",
              "\n",
              "    .dataframe tbody tr th {\n",
              "        vertical-align: top;\n",
              "    }\n",
              "\n",
              "    .dataframe thead th {\n",
              "        text-align: right;\n",
              "    }\n",
              "</style>\n",
              "<table border=\"1\" class=\"dataframe\">\n",
              "  <thead>\n",
              "    <tr style=\"text-align: right;\">\n",
              "      <th></th>\n",
              "      <th>overall</th>\n",
              "      <th>reviewTime</th>\n",
              "      <th>reviewerID</th>\n",
              "      <th>asin</th>\n",
              "      <th>style</th>\n",
              "      <th>reviewerName</th>\n",
              "      <th>reviewText</th>\n",
              "      <th>summary</th>\n",
              "      <th>unixReviewTime</th>\n",
              "      <th>verified</th>\n",
              "    </tr>\n",
              "  </thead>\n",
              "  <tbody>\n",
              "    <tr>\n",
              "      <th>0</th>\n",
              "      <td>5</td>\n",
              "      <td>01 2, 2018</td>\n",
              "      <td>A3ISBEPYLY8IMO</td>\n",
              "      <td>B00000JRSB</td>\n",
              "      <td>{'Format:': ' Video Game'}</td>\n",
              "      <td>Jimmy</td>\n",
              "      <td>Received this in perfect condition. Great rese...</td>\n",
              "      <td>Received this in perfect condition. Great rese...</td>\n",
              "      <td>1514851200</td>\n",
              "      <td>1.0</td>\n",
              "    </tr>\n",
              "    <tr>\n",
              "      <th>1</th>\n",
              "      <td>5</td>\n",
              "      <td>12 21, 2017</td>\n",
              "      <td>A1RIUB1PZWLOVZ</td>\n",
              "      <td>B00000JRSB</td>\n",
              "      <td>{'Format:': ' Video Game'}</td>\n",
              "      <td>Amazon Customer</td>\n",
              "      <td>I had a hard time finding this game locally or...</td>\n",
              "      <td>I am very pleased with this purchase</td>\n",
              "      <td>1513814400</td>\n",
              "      <td>1.0</td>\n",
              "    </tr>\n",
              "  </tbody>\n",
              "</table>\n",
              "</div>\n",
              "      <button class=\"colab-df-convert\" onclick=\"convertToInteractive('df-ae0690d8-7d32-4a77-bdaf-985a57519060')\"\n",
              "              title=\"Convert this dataframe to an interactive table.\"\n",
              "              style=\"display:none;\">\n",
              "        \n",
              "  <svg xmlns=\"http://www.w3.org/2000/svg\" height=\"24px\"viewBox=\"0 0 24 24\"\n",
              "       width=\"24px\">\n",
              "    <path d=\"M0 0h24v24H0V0z\" fill=\"none\"/>\n",
              "    <path d=\"M18.56 5.44l.94 2.06.94-2.06 2.06-.94-2.06-.94-.94-2.06-.94 2.06-2.06.94zm-11 1L8.5 8.5l.94-2.06 2.06-.94-2.06-.94L8.5 2.5l-.94 2.06-2.06.94zm10 10l.94 2.06.94-2.06 2.06-.94-2.06-.94-.94-2.06-.94 2.06-2.06.94z\"/><path d=\"M17.41 7.96l-1.37-1.37c-.4-.4-.92-.59-1.43-.59-.52 0-1.04.2-1.43.59L10.3 9.45l-7.72 7.72c-.78.78-.78 2.05 0 2.83L4 21.41c.39.39.9.59 1.41.59.51 0 1.02-.2 1.41-.59l7.78-7.78 2.81-2.81c.8-.78.8-2.07 0-2.86zM5.41 20L4 18.59l7.72-7.72 1.47 1.35L5.41 20z\"/>\n",
              "  </svg>\n",
              "      </button>\n",
              "      \n",
              "  <style>\n",
              "    .colab-df-container {\n",
              "      display:flex;\n",
              "      flex-wrap:wrap;\n",
              "      gap: 12px;\n",
              "    }\n",
              "\n",
              "    .colab-df-convert {\n",
              "      background-color: #E8F0FE;\n",
              "      border: none;\n",
              "      border-radius: 50%;\n",
              "      cursor: pointer;\n",
              "      display: none;\n",
              "      fill: #1967D2;\n",
              "      height: 32px;\n",
              "      padding: 0 0 0 0;\n",
              "      width: 32px;\n",
              "    }\n",
              "\n",
              "    .colab-df-convert:hover {\n",
              "      background-color: #E2EBFA;\n",
              "      box-shadow: 0px 1px 2px rgba(60, 64, 67, 0.3), 0px 1px 3px 1px rgba(60, 64, 67, 0.15);\n",
              "      fill: #174EA6;\n",
              "    }\n",
              "\n",
              "    [theme=dark] .colab-df-convert {\n",
              "      background-color: #3B4455;\n",
              "      fill: #D2E3FC;\n",
              "    }\n",
              "\n",
              "    [theme=dark] .colab-df-convert:hover {\n",
              "      background-color: #434B5C;\n",
              "      box-shadow: 0px 1px 3px 1px rgba(0, 0, 0, 0.15);\n",
              "      filter: drop-shadow(0px 1px 2px rgba(0, 0, 0, 0.3));\n",
              "      fill: #FFFFFF;\n",
              "    }\n",
              "  </style>\n",
              "\n",
              "      <script>\n",
              "        const buttonEl =\n",
              "          document.querySelector('#df-ae0690d8-7d32-4a77-bdaf-985a57519060 button.colab-df-convert');\n",
              "        buttonEl.style.display =\n",
              "          google.colab.kernel.accessAllowed ? 'block' : 'none';\n",
              "\n",
              "        async function convertToInteractive(key) {\n",
              "          const element = document.querySelector('#df-ae0690d8-7d32-4a77-bdaf-985a57519060');\n",
              "          const dataTable =\n",
              "            await google.colab.kernel.invokeFunction('convertToInteractive',\n",
              "                                                     [key], {});\n",
              "          if (!dataTable) return;\n",
              "\n",
              "          const docLinkHtml = 'Like what you see? Visit the ' +\n",
              "            '<a target=\"_blank\" href=https://colab.research.google.com/notebooks/data_table.ipynb>data table notebook</a>'\n",
              "            + ' to learn more about interactive tables.';\n",
              "          element.innerHTML = '';\n",
              "          dataTable['output_type'] = 'display_data';\n",
              "          await google.colab.output.renderOutput(dataTable, element);\n",
              "          const docLink = document.createElement('div');\n",
              "          docLink.innerHTML = docLinkHtml;\n",
              "          element.appendChild(docLink);\n",
              "        }\n",
              "      </script>\n",
              "    </div>\n",
              "  </div>\n",
              "  "
            ]
          },
          "metadata": {},
          "execution_count": 47
        }
      ]
    },
    {
      "cell_type": "code",
      "source": [
        "df_total = df_final.merge(meta[['category', 'description', 'title', 'also_buy',\n",
        "                               'brand', 'also_view', 'main_cat', 'asin']], on='asin')"
      ],
      "metadata": {
        "id": "a4qs2IzRirzw"
      },
      "id": "a4qs2IzRirzw",
      "execution_count": 51,
      "outputs": []
    },
    {
      "cell_type": "code",
      "source": [
        "df_total.head(2)"
      ],
      "metadata": {
        "colab": {
          "base_uri": "https://localhost:8080/",
          "height": 350
        },
        "id": "VPBDYO-_kADB",
        "outputId": "e1d4ba88-c95f-4d9d-f89f-2575a8414143"
      },
      "id": "VPBDYO-_kADB",
      "execution_count": 53,
      "outputs": [
        {
          "output_type": "execute_result",
          "data": {
            "text/plain": [
              "   overall  reviewTime      reviewerID        asin  \\\n",
              "0        5  01 2, 2018  A3ISBEPYLY8IMO  B00000JRSB   \n",
              "1        5  01 2, 2018  A3ISBEPYLY8IMO  B00000JRSB   \n",
              "\n",
              "                        style reviewerName  \\\n",
              "0  {'Format:': ' Video Game'}        Jimmy   \n",
              "1  {'Format:': ' Video Game'}        Jimmy   \n",
              "\n",
              "                                          reviewText  \\\n",
              "0  Received this in perfect condition. Great rese...   \n",
              "1  Received this in perfect condition. Great rese...   \n",
              "\n",
              "                                             summary  unixReviewTime  \\\n",
              "0  Received this in perfect condition. Great rese...      1514851200   \n",
              "1  Received this in perfect condition. Great rese...      1514851200   \n",
              "\n",
              "   verified                                           category  \\\n",
              "0       1.0  [Video Games, Retro Gaming &amp; Microconsoles...   \n",
              "1       1.0  [Video Games, Retro Gaming &amp; Microconsoles...   \n",
              "\n",
              "                                         description              title  \\\n",
              "0  [Long recognized as role-playing games par exc...  Final Fantasy VII   \n",
              "1  [Long recognized as role-playing games par exc...  Final Fantasy VII   \n",
              "\n",
              "                                            also_buy       brand  \\\n",
              "0  [B0000296O5, B00004Y57G, B00002R28C, B0045L3SN...  SquareSoft   \n",
              "1  [B0000296O5, B00004Y57G, B00002R28C, B0045L3SN...  SquareSoft   \n",
              "\n",
              "                                           also_view     main_cat  \n",
              "0  [B00004Y57G, B00004TC6E, B00ZS80PC2, B0000296O...  Video Games  \n",
              "1  [B00004Y57G, B00004TC6E, B00ZS80PC2, B0000296O...  Video Games  "
            ],
            "text/html": [
              "\n",
              "  <div id=\"df-87494cfe-f59c-4c71-9fff-6630f9c9aebb\">\n",
              "    <div class=\"colab-df-container\">\n",
              "      <div>\n",
              "<style scoped>\n",
              "    .dataframe tbody tr th:only-of-type {\n",
              "        vertical-align: middle;\n",
              "    }\n",
              "\n",
              "    .dataframe tbody tr th {\n",
              "        vertical-align: top;\n",
              "    }\n",
              "\n",
              "    .dataframe thead th {\n",
              "        text-align: right;\n",
              "    }\n",
              "</style>\n",
              "<table border=\"1\" class=\"dataframe\">\n",
              "  <thead>\n",
              "    <tr style=\"text-align: right;\">\n",
              "      <th></th>\n",
              "      <th>overall</th>\n",
              "      <th>reviewTime</th>\n",
              "      <th>reviewerID</th>\n",
              "      <th>asin</th>\n",
              "      <th>style</th>\n",
              "      <th>reviewerName</th>\n",
              "      <th>reviewText</th>\n",
              "      <th>summary</th>\n",
              "      <th>unixReviewTime</th>\n",
              "      <th>verified</th>\n",
              "      <th>category</th>\n",
              "      <th>description</th>\n",
              "      <th>title</th>\n",
              "      <th>also_buy</th>\n",
              "      <th>brand</th>\n",
              "      <th>also_view</th>\n",
              "      <th>main_cat</th>\n",
              "    </tr>\n",
              "  </thead>\n",
              "  <tbody>\n",
              "    <tr>\n",
              "      <th>0</th>\n",
              "      <td>5</td>\n",
              "      <td>01 2, 2018</td>\n",
              "      <td>A3ISBEPYLY8IMO</td>\n",
              "      <td>B00000JRSB</td>\n",
              "      <td>{'Format:': ' Video Game'}</td>\n",
              "      <td>Jimmy</td>\n",
              "      <td>Received this in perfect condition. Great rese...</td>\n",
              "      <td>Received this in perfect condition. Great rese...</td>\n",
              "      <td>1514851200</td>\n",
              "      <td>1.0</td>\n",
              "      <td>[Video Games, Retro Gaming &amp;amp; Microconsoles...</td>\n",
              "      <td>[Long recognized as role-playing games par exc...</td>\n",
              "      <td>Final Fantasy VII</td>\n",
              "      <td>[B0000296O5, B00004Y57G, B00002R28C, B0045L3SN...</td>\n",
              "      <td>SquareSoft</td>\n",
              "      <td>[B00004Y57G, B00004TC6E, B00ZS80PC2, B0000296O...</td>\n",
              "      <td>Video Games</td>\n",
              "    </tr>\n",
              "    <tr>\n",
              "      <th>1</th>\n",
              "      <td>5</td>\n",
              "      <td>01 2, 2018</td>\n",
              "      <td>A3ISBEPYLY8IMO</td>\n",
              "      <td>B00000JRSB</td>\n",
              "      <td>{'Format:': ' Video Game'}</td>\n",
              "      <td>Jimmy</td>\n",
              "      <td>Received this in perfect condition. Great rese...</td>\n",
              "      <td>Received this in perfect condition. Great rese...</td>\n",
              "      <td>1514851200</td>\n",
              "      <td>1.0</td>\n",
              "      <td>[Video Games, Retro Gaming &amp;amp; Microconsoles...</td>\n",
              "      <td>[Long recognized as role-playing games par exc...</td>\n",
              "      <td>Final Fantasy VII</td>\n",
              "      <td>[B0000296O5, B00004Y57G, B00002R28C, B0045L3SN...</td>\n",
              "      <td>SquareSoft</td>\n",
              "      <td>[B00004Y57G, B00004TC6E, B00ZS80PC2, B0000296O...</td>\n",
              "      <td>Video Games</td>\n",
              "    </tr>\n",
              "  </tbody>\n",
              "</table>\n",
              "</div>\n",
              "      <button class=\"colab-df-convert\" onclick=\"convertToInteractive('df-87494cfe-f59c-4c71-9fff-6630f9c9aebb')\"\n",
              "              title=\"Convert this dataframe to an interactive table.\"\n",
              "              style=\"display:none;\">\n",
              "        \n",
              "  <svg xmlns=\"http://www.w3.org/2000/svg\" height=\"24px\"viewBox=\"0 0 24 24\"\n",
              "       width=\"24px\">\n",
              "    <path d=\"M0 0h24v24H0V0z\" fill=\"none\"/>\n",
              "    <path d=\"M18.56 5.44l.94 2.06.94-2.06 2.06-.94-2.06-.94-.94-2.06-.94 2.06-2.06.94zm-11 1L8.5 8.5l.94-2.06 2.06-.94-2.06-.94L8.5 2.5l-.94 2.06-2.06.94zm10 10l.94 2.06.94-2.06 2.06-.94-2.06-.94-.94-2.06-.94 2.06-2.06.94z\"/><path d=\"M17.41 7.96l-1.37-1.37c-.4-.4-.92-.59-1.43-.59-.52 0-1.04.2-1.43.59L10.3 9.45l-7.72 7.72c-.78.78-.78 2.05 0 2.83L4 21.41c.39.39.9.59 1.41.59.51 0 1.02-.2 1.41-.59l7.78-7.78 2.81-2.81c.8-.78.8-2.07 0-2.86zM5.41 20L4 18.59l7.72-7.72 1.47 1.35L5.41 20z\"/>\n",
              "  </svg>\n",
              "      </button>\n",
              "      \n",
              "  <style>\n",
              "    .colab-df-container {\n",
              "      display:flex;\n",
              "      flex-wrap:wrap;\n",
              "      gap: 12px;\n",
              "    }\n",
              "\n",
              "    .colab-df-convert {\n",
              "      background-color: #E8F0FE;\n",
              "      border: none;\n",
              "      border-radius: 50%;\n",
              "      cursor: pointer;\n",
              "      display: none;\n",
              "      fill: #1967D2;\n",
              "      height: 32px;\n",
              "      padding: 0 0 0 0;\n",
              "      width: 32px;\n",
              "    }\n",
              "\n",
              "    .colab-df-convert:hover {\n",
              "      background-color: #E2EBFA;\n",
              "      box-shadow: 0px 1px 2px rgba(60, 64, 67, 0.3), 0px 1px 3px 1px rgba(60, 64, 67, 0.15);\n",
              "      fill: #174EA6;\n",
              "    }\n",
              "\n",
              "    [theme=dark] .colab-df-convert {\n",
              "      background-color: #3B4455;\n",
              "      fill: #D2E3FC;\n",
              "    }\n",
              "\n",
              "    [theme=dark] .colab-df-convert:hover {\n",
              "      background-color: #434B5C;\n",
              "      box-shadow: 0px 1px 3px 1px rgba(0, 0, 0, 0.15);\n",
              "      filter: drop-shadow(0px 1px 2px rgba(0, 0, 0, 0.3));\n",
              "      fill: #FFFFFF;\n",
              "    }\n",
              "  </style>\n",
              "\n",
              "      <script>\n",
              "        const buttonEl =\n",
              "          document.querySelector('#df-87494cfe-f59c-4c71-9fff-6630f9c9aebb button.colab-df-convert');\n",
              "        buttonEl.style.display =\n",
              "          google.colab.kernel.accessAllowed ? 'block' : 'none';\n",
              "\n",
              "        async function convertToInteractive(key) {\n",
              "          const element = document.querySelector('#df-87494cfe-f59c-4c71-9fff-6630f9c9aebb');\n",
              "          const dataTable =\n",
              "            await google.colab.kernel.invokeFunction('convertToInteractive',\n",
              "                                                     [key], {});\n",
              "          if (!dataTable) return;\n",
              "\n",
              "          const docLinkHtml = 'Like what you see? Visit the ' +\n",
              "            '<a target=\"_blank\" href=https://colab.research.google.com/notebooks/data_table.ipynb>data table notebook</a>'\n",
              "            + ' to learn more about interactive tables.';\n",
              "          element.innerHTML = '';\n",
              "          dataTable['output_type'] = 'display_data';\n",
              "          await google.colab.output.renderOutput(dataTable, element);\n",
              "          const docLink = document.createElement('div');\n",
              "          docLink.innerHTML = docLinkHtml;\n",
              "          element.appendChild(docLink);\n",
              "        }\n",
              "      </script>\n",
              "    </div>\n",
              "  </div>\n",
              "  "
            ]
          },
          "metadata": {},
          "execution_count": 53
        }
      ]
    },
    {
      "cell_type": "markdown",
      "source": [
        "# Sistema de recomendação"
      ],
      "metadata": {
        "id": "j6nc0NKfS8Ui"
      },
      "id": "j6nc0NKfS8Ui"
    },
    {
      "cell_type": "markdown",
      "source": [
        "## Filtro colaborativo e fallback baseado em avaliações verificadas. (verified)"
      ],
      "metadata": {
        "id": "U64g585IlUjB"
      },
      "id": "U64g585IlUjB"
    },
    {
      "cell_type": "markdown",
      "source": [
        "Primeiramente vamos calcular a quantidade de avaliação por produto baseado no asin e reviewerID em ordem decrescente para posteriormente usar como fallback(), que consiste em quanto o cliente pesquisar por um produto que não contenha na base de dados, vamos recomendar os 10 produtos mais vendidos."
      ],
      "metadata": {
        "id": "hUF_OouKma6I"
      },
      "id": "hUF_OouKma6I"
    },
    {
      "cell_type": "code",
      "source": [
        "data_count_products = df_total.groupby(by='asin', as_index=False) \\\n",
        "          .agg({'reviewerID' : pd.Series.nunique}) \\\n",
        "          .rename(columns = {'reviewerID' : 'Count_reviewerID'}) \\\n",
        "          .set_index('asin') \\\n",
        "          .sort_values('Count_reviewerID', ascending=False)"
      ],
      "metadata": {
        "id": "jSUbJL72THZC"
      },
      "id": "jSUbJL72THZC",
      "execution_count": 60,
      "outputs": []
    },
    {
      "cell_type": "code",
      "source": [
        "data_count_products.head(10)"
      ],
      "metadata": {
        "colab": {
          "base_uri": "https://localhost:8080/",
          "height": 394
        },
        "id": "EuxWuoJ1n4hT",
        "outputId": "1b2acb69-dd9c-47c1-f382-0701745e835b"
      },
      "id": "EuxWuoJ1n4hT",
      "execution_count": 61,
      "outputs": [
        {
          "output_type": "execute_result",
          "data": {
            "text/plain": [
              "            Count_reviewerID\n",
              "asin                        \n",
              "B00HTK1NCS              6462\n",
              "B004RMK57U              5069\n",
              "B00KKAQYXM              4359\n",
              "B00JJNQG98              3962\n",
              "B003ZSP0WW              3960\n",
              "B00178630A              3820\n",
              "B00E4MQODC              3520\n",
              "B000B9RI14              3345\n",
              "B0009VXBAQ              3167\n",
              "B00DBDPOZ4              3162"
            ],
            "text/html": [
              "\n",
              "  <div id=\"df-567b15e5-6c9d-46c7-a7f3-6300da9ca693\">\n",
              "    <div class=\"colab-df-container\">\n",
              "      <div>\n",
              "<style scoped>\n",
              "    .dataframe tbody tr th:only-of-type {\n",
              "        vertical-align: middle;\n",
              "    }\n",
              "\n",
              "    .dataframe tbody tr th {\n",
              "        vertical-align: top;\n",
              "    }\n",
              "\n",
              "    .dataframe thead th {\n",
              "        text-align: right;\n",
              "    }\n",
              "</style>\n",
              "<table border=\"1\" class=\"dataframe\">\n",
              "  <thead>\n",
              "    <tr style=\"text-align: right;\">\n",
              "      <th></th>\n",
              "      <th>Count_reviewerID</th>\n",
              "    </tr>\n",
              "    <tr>\n",
              "      <th>asin</th>\n",
              "      <th></th>\n",
              "    </tr>\n",
              "  </thead>\n",
              "  <tbody>\n",
              "    <tr>\n",
              "      <th>B00HTK1NCS</th>\n",
              "      <td>6462</td>\n",
              "    </tr>\n",
              "    <tr>\n",
              "      <th>B004RMK57U</th>\n",
              "      <td>5069</td>\n",
              "    </tr>\n",
              "    <tr>\n",
              "      <th>B00KKAQYXM</th>\n",
              "      <td>4359</td>\n",
              "    </tr>\n",
              "    <tr>\n",
              "      <th>B00JJNQG98</th>\n",
              "      <td>3962</td>\n",
              "    </tr>\n",
              "    <tr>\n",
              "      <th>B003ZSP0WW</th>\n",
              "      <td>3960</td>\n",
              "    </tr>\n",
              "    <tr>\n",
              "      <th>B00178630A</th>\n",
              "      <td>3820</td>\n",
              "    </tr>\n",
              "    <tr>\n",
              "      <th>B00E4MQODC</th>\n",
              "      <td>3520</td>\n",
              "    </tr>\n",
              "    <tr>\n",
              "      <th>B000B9RI14</th>\n",
              "      <td>3345</td>\n",
              "    </tr>\n",
              "    <tr>\n",
              "      <th>B0009VXBAQ</th>\n",
              "      <td>3167</td>\n",
              "    </tr>\n",
              "    <tr>\n",
              "      <th>B00DBDPOZ4</th>\n",
              "      <td>3162</td>\n",
              "    </tr>\n",
              "  </tbody>\n",
              "</table>\n",
              "</div>\n",
              "      <button class=\"colab-df-convert\" onclick=\"convertToInteractive('df-567b15e5-6c9d-46c7-a7f3-6300da9ca693')\"\n",
              "              title=\"Convert this dataframe to an interactive table.\"\n",
              "              style=\"display:none;\">\n",
              "        \n",
              "  <svg xmlns=\"http://www.w3.org/2000/svg\" height=\"24px\"viewBox=\"0 0 24 24\"\n",
              "       width=\"24px\">\n",
              "    <path d=\"M0 0h24v24H0V0z\" fill=\"none\"/>\n",
              "    <path d=\"M18.56 5.44l.94 2.06.94-2.06 2.06-.94-2.06-.94-.94-2.06-.94 2.06-2.06.94zm-11 1L8.5 8.5l.94-2.06 2.06-.94-2.06-.94L8.5 2.5l-.94 2.06-2.06.94zm10 10l.94 2.06.94-2.06 2.06-.94-2.06-.94-.94-2.06-.94 2.06-2.06.94z\"/><path d=\"M17.41 7.96l-1.37-1.37c-.4-.4-.92-.59-1.43-.59-.52 0-1.04.2-1.43.59L10.3 9.45l-7.72 7.72c-.78.78-.78 2.05 0 2.83L4 21.41c.39.39.9.59 1.41.59.51 0 1.02-.2 1.41-.59l7.78-7.78 2.81-2.81c.8-.78.8-2.07 0-2.86zM5.41 20L4 18.59l7.72-7.72 1.47 1.35L5.41 20z\"/>\n",
              "  </svg>\n",
              "      </button>\n",
              "      \n",
              "  <style>\n",
              "    .colab-df-container {\n",
              "      display:flex;\n",
              "      flex-wrap:wrap;\n",
              "      gap: 12px;\n",
              "    }\n",
              "\n",
              "    .colab-df-convert {\n",
              "      background-color: #E8F0FE;\n",
              "      border: none;\n",
              "      border-radius: 50%;\n",
              "      cursor: pointer;\n",
              "      display: none;\n",
              "      fill: #1967D2;\n",
              "      height: 32px;\n",
              "      padding: 0 0 0 0;\n",
              "      width: 32px;\n",
              "    }\n",
              "\n",
              "    .colab-df-convert:hover {\n",
              "      background-color: #E2EBFA;\n",
              "      box-shadow: 0px 1px 2px rgba(60, 64, 67, 0.3), 0px 1px 3px 1px rgba(60, 64, 67, 0.15);\n",
              "      fill: #174EA6;\n",
              "    }\n",
              "\n",
              "    [theme=dark] .colab-df-convert {\n",
              "      background-color: #3B4455;\n",
              "      fill: #D2E3FC;\n",
              "    }\n",
              "\n",
              "    [theme=dark] .colab-df-convert:hover {\n",
              "      background-color: #434B5C;\n",
              "      box-shadow: 0px 1px 3px 1px rgba(0, 0, 0, 0.15);\n",
              "      filter: drop-shadow(0px 1px 2px rgba(0, 0, 0, 0.3));\n",
              "      fill: #FFFFFF;\n",
              "    }\n",
              "  </style>\n",
              "\n",
              "      <script>\n",
              "        const buttonEl =\n",
              "          document.querySelector('#df-567b15e5-6c9d-46c7-a7f3-6300da9ca693 button.colab-df-convert');\n",
              "        buttonEl.style.display =\n",
              "          google.colab.kernel.accessAllowed ? 'block' : 'none';\n",
              "\n",
              "        async function convertToInteractive(key) {\n",
              "          const element = document.querySelector('#df-567b15e5-6c9d-46c7-a7f3-6300da9ca693');\n",
              "          const dataTable =\n",
              "            await google.colab.kernel.invokeFunction('convertToInteractive',\n",
              "                                                     [key], {});\n",
              "          if (!dataTable) return;\n",
              "\n",
              "          const docLinkHtml = 'Like what you see? Visit the ' +\n",
              "            '<a target=\"_blank\" href=https://colab.research.google.com/notebooks/data_table.ipynb>data table notebook</a>'\n",
              "            + ' to learn more about interactive tables.';\n",
              "          element.innerHTML = '';\n",
              "          dataTable['output_type'] = 'display_data';\n",
              "          await google.colab.output.renderOutput(dataTable, element);\n",
              "          const docLink = document.createElement('div');\n",
              "          docLink.innerHTML = docLinkHtml;\n",
              "          element.appendChild(docLink);\n",
              "        }\n",
              "      </script>\n",
              "    </div>\n",
              "  </div>\n",
              "  "
            ]
          },
          "metadata": {},
          "execution_count": 61
        }
      ]
    },
    {
      "cell_type": "markdown",
      "source": [
        "Agora pegando uma amostra com os 10 produtos mais vendidos e transformando em uma lista"
      ],
      "metadata": {
        "id": "y175TH0Ir0Li"
      },
      "id": "y175TH0Ir0Li"
    },
    {
      "cell_type": "code",
      "source": [
        "data_sellers_poducts = data_count_products.head(10).index.tolist()"
      ],
      "metadata": {
        "id": "S8kHZzF7sJ2H"
      },
      "id": "S8kHZzF7sJ2H",
      "execution_count": 85,
      "outputs": []
    },
    {
      "cell_type": "code",
      "source": [
        "data_sellers_poducts"
      ],
      "metadata": {
        "colab": {
          "base_uri": "https://localhost:8080/"
        },
        "id": "G1sevAnpszRA",
        "outputId": "c57d0919-f953-4684-cb44-67dec9175ffa"
      },
      "id": "G1sevAnpszRA",
      "execution_count": 87,
      "outputs": [
        {
          "output_type": "execute_result",
          "data": {
            "text/plain": [
              "['B00HTK1NCS',\n",
              " 'B004RMK57U',\n",
              " 'B00KKAQYXM',\n",
              " 'B00JJNQG98',\n",
              " 'B003ZSP0WW',\n",
              " 'B00178630A',\n",
              " 'B00E4MQODC',\n",
              " 'B000B9RI14',\n",
              " 'B0009VXBAQ',\n",
              " 'B00DBDPOZ4']"
            ]
          },
          "metadata": {},
          "execution_count": 87
        }
      ]
    },
    {
      "cell_type": "markdown",
      "source": [
        "Agora, vamos calcular a contagem de valores verificados por produto"
      ],
      "metadata": {
        "id": "O9hhLwiBoO_l"
      },
      "id": "O9hhLwiBoO_l"
    },
    {
      "cell_type": "code",
      "source": [
        "data_verified_count = df_total.groupby(by='asin', as_index=False) \\\n",
        "            .agg({'verified' : pd.Series.nunique}) \\\n",
        "            .rename(columns = {'verified' : 'verified_count'}) \\\n",
        "            .set_index('asin') \\\n",
        "            .sort_values('verified_count', ascending=False)"
      ],
      "metadata": {
        "id": "hzq7ljuSqE37"
      },
      "id": "hzq7ljuSqE37",
      "execution_count": 123,
      "outputs": []
    },
    {
      "cell_type": "code",
      "source": [
        "data_verified_count.head(10)"
      ],
      "metadata": {
        "colab": {
          "base_uri": "https://localhost:8080/",
          "height": 394
        },
        "id": "szfKyDl3rh40",
        "outputId": "fb89f0c5-5161-48e2-ac6b-9ddef0e15057"
      },
      "id": "szfKyDl3rh40",
      "execution_count": 124,
      "outputs": [
        {
          "output_type": "execute_result",
          "data": {
            "text/plain": [
              "            verified_count\n",
              "asin                      \n",
              "B00000JRSB               2\n",
              "B00J48MUS4               2\n",
              "B00FLLFJE0               2\n",
              "B00FNKMVUO               2\n",
              "B00FWK8UWI               2\n",
              "B00GANWVJE               2\n",
              "B00GMFKYK8               2\n",
              "B00GODZYNA               2\n",
              "B00GU4F4OM               2\n",
              "B00GU8W5AE               2"
            ],
            "text/html": [
              "\n",
              "  <div id=\"df-2801ddb7-9cb8-4806-9e9e-e6bb87d3c3d3\">\n",
              "    <div class=\"colab-df-container\">\n",
              "      <div>\n",
              "<style scoped>\n",
              "    .dataframe tbody tr th:only-of-type {\n",
              "        vertical-align: middle;\n",
              "    }\n",
              "\n",
              "    .dataframe tbody tr th {\n",
              "        vertical-align: top;\n",
              "    }\n",
              "\n",
              "    .dataframe thead th {\n",
              "        text-align: right;\n",
              "    }\n",
              "</style>\n",
              "<table border=\"1\" class=\"dataframe\">\n",
              "  <thead>\n",
              "    <tr style=\"text-align: right;\">\n",
              "      <th></th>\n",
              "      <th>verified_count</th>\n",
              "    </tr>\n",
              "    <tr>\n",
              "      <th>asin</th>\n",
              "      <th></th>\n",
              "    </tr>\n",
              "  </thead>\n",
              "  <tbody>\n",
              "    <tr>\n",
              "      <th>B00000JRSB</th>\n",
              "      <td>2</td>\n",
              "    </tr>\n",
              "    <tr>\n",
              "      <th>B00J48MUS4</th>\n",
              "      <td>2</td>\n",
              "    </tr>\n",
              "    <tr>\n",
              "      <th>B00FLLFJE0</th>\n",
              "      <td>2</td>\n",
              "    </tr>\n",
              "    <tr>\n",
              "      <th>B00FNKMVUO</th>\n",
              "      <td>2</td>\n",
              "    </tr>\n",
              "    <tr>\n",
              "      <th>B00FWK8UWI</th>\n",
              "      <td>2</td>\n",
              "    </tr>\n",
              "    <tr>\n",
              "      <th>B00GANWVJE</th>\n",
              "      <td>2</td>\n",
              "    </tr>\n",
              "    <tr>\n",
              "      <th>B00GMFKYK8</th>\n",
              "      <td>2</td>\n",
              "    </tr>\n",
              "    <tr>\n",
              "      <th>B00GODZYNA</th>\n",
              "      <td>2</td>\n",
              "    </tr>\n",
              "    <tr>\n",
              "      <th>B00GU4F4OM</th>\n",
              "      <td>2</td>\n",
              "    </tr>\n",
              "    <tr>\n",
              "      <th>B00GU8W5AE</th>\n",
              "      <td>2</td>\n",
              "    </tr>\n",
              "  </tbody>\n",
              "</table>\n",
              "</div>\n",
              "      <button class=\"colab-df-convert\" onclick=\"convertToInteractive('df-2801ddb7-9cb8-4806-9e9e-e6bb87d3c3d3')\"\n",
              "              title=\"Convert this dataframe to an interactive table.\"\n",
              "              style=\"display:none;\">\n",
              "        \n",
              "  <svg xmlns=\"http://www.w3.org/2000/svg\" height=\"24px\"viewBox=\"0 0 24 24\"\n",
              "       width=\"24px\">\n",
              "    <path d=\"M0 0h24v24H0V0z\" fill=\"none\"/>\n",
              "    <path d=\"M18.56 5.44l.94 2.06.94-2.06 2.06-.94-2.06-.94-.94-2.06-.94 2.06-2.06.94zm-11 1L8.5 8.5l.94-2.06 2.06-.94-2.06-.94L8.5 2.5l-.94 2.06-2.06.94zm10 10l.94 2.06.94-2.06 2.06-.94-2.06-.94-.94-2.06-.94 2.06-2.06.94z\"/><path d=\"M17.41 7.96l-1.37-1.37c-.4-.4-.92-.59-1.43-.59-.52 0-1.04.2-1.43.59L10.3 9.45l-7.72 7.72c-.78.78-.78 2.05 0 2.83L4 21.41c.39.39.9.59 1.41.59.51 0 1.02-.2 1.41-.59l7.78-7.78 2.81-2.81c.8-.78.8-2.07 0-2.86zM5.41 20L4 18.59l7.72-7.72 1.47 1.35L5.41 20z\"/>\n",
              "  </svg>\n",
              "      </button>\n",
              "      \n",
              "  <style>\n",
              "    .colab-df-container {\n",
              "      display:flex;\n",
              "      flex-wrap:wrap;\n",
              "      gap: 12px;\n",
              "    }\n",
              "\n",
              "    .colab-df-convert {\n",
              "      background-color: #E8F0FE;\n",
              "      border: none;\n",
              "      border-radius: 50%;\n",
              "      cursor: pointer;\n",
              "      display: none;\n",
              "      fill: #1967D2;\n",
              "      height: 32px;\n",
              "      padding: 0 0 0 0;\n",
              "      width: 32px;\n",
              "    }\n",
              "\n",
              "    .colab-df-convert:hover {\n",
              "      background-color: #E2EBFA;\n",
              "      box-shadow: 0px 1px 2px rgba(60, 64, 67, 0.3), 0px 1px 3px 1px rgba(60, 64, 67, 0.15);\n",
              "      fill: #174EA6;\n",
              "    }\n",
              "\n",
              "    [theme=dark] .colab-df-convert {\n",
              "      background-color: #3B4455;\n",
              "      fill: #D2E3FC;\n",
              "    }\n",
              "\n",
              "    [theme=dark] .colab-df-convert:hover {\n",
              "      background-color: #434B5C;\n",
              "      box-shadow: 0px 1px 3px 1px rgba(0, 0, 0, 0.15);\n",
              "      filter: drop-shadow(0px 1px 2px rgba(0, 0, 0, 0.3));\n",
              "      fill: #FFFFFF;\n",
              "    }\n",
              "  </style>\n",
              "\n",
              "      <script>\n",
              "        const buttonEl =\n",
              "          document.querySelector('#df-2801ddb7-9cb8-4806-9e9e-e6bb87d3c3d3 button.colab-df-convert');\n",
              "        buttonEl.style.display =\n",
              "          google.colab.kernel.accessAllowed ? 'block' : 'none';\n",
              "\n",
              "        async function convertToInteractive(key) {\n",
              "          const element = document.querySelector('#df-2801ddb7-9cb8-4806-9e9e-e6bb87d3c3d3');\n",
              "          const dataTable =\n",
              "            await google.colab.kernel.invokeFunction('convertToInteractive',\n",
              "                                                     [key], {});\n",
              "          if (!dataTable) return;\n",
              "\n",
              "          const docLinkHtml = 'Like what you see? Visit the ' +\n",
              "            '<a target=\"_blank\" href=https://colab.research.google.com/notebooks/data_table.ipynb>data table notebook</a>'\n",
              "            + ' to learn more about interactive tables.';\n",
              "          element.innerHTML = '';\n",
              "          dataTable['output_type'] = 'display_data';\n",
              "          await google.colab.output.renderOutput(dataTable, element);\n",
              "          const docLink = document.createElement('div');\n",
              "          docLink.innerHTML = docLinkHtml;\n",
              "          element.appendChild(docLink);\n",
              "        }\n",
              "      </script>\n",
              "    </div>\n",
              "  </div>\n",
              "  "
            ]
          },
          "metadata": {},
          "execution_count": 124
        }
      ]
    },
    {
      "cell_type": "markdown",
      "source": [
        "Pegando uma amostra dos 2000 produtos mais bem avaliados e transformando em uma lista"
      ],
      "metadata": {
        "id": "jnsAWBFKy2AG"
      },
      "id": "jnsAWBFKy2AG"
    },
    {
      "cell_type": "code",
      "source": [
        "top_products_verified_count = data_verified_count.head(2000).index.tolist()"
      ],
      "metadata": {
        "id": "0DKNbqyUy9dm"
      },
      "id": "0DKNbqyUy9dm",
      "execution_count": 125,
      "outputs": []
    },
    {
      "cell_type": "code",
      "source": [
        "top_products_verified_count[:10]"
      ],
      "metadata": {
        "colab": {
          "base_uri": "https://localhost:8080/"
        },
        "id": "A1m9DOPxzMzi",
        "outputId": "530ba6a9-01df-4e14-da36-ffb3dc49df6c"
      },
      "id": "A1m9DOPxzMzi",
      "execution_count": 126,
      "outputs": [
        {
          "output_type": "execute_result",
          "data": {
            "text/plain": [
              "['B00000JRSB',\n",
              " 'B00J48MUS4',\n",
              " 'B00FLLFJE0',\n",
              " 'B00FNKMVUO',\n",
              " 'B00FWK8UWI',\n",
              " 'B00GANWVJE',\n",
              " 'B00GMFKYK8',\n",
              " 'B00GODZYNA',\n",
              " 'B00GU4F4OM',\n",
              " 'B00GU8W5AE']"
            ]
          },
          "metadata": {},
          "execution_count": 126
        }
      ]
    },
    {
      "cell_type": "markdown",
      "source": [
        "Fazendo para a base completa"
      ],
      "metadata": {
        "id": "zV3GQui0yjNx"
      },
      "id": "zV3GQui0yjNx"
    },
    {
      "cell_type": "code",
      "source": [
        "df_total.groupby(by='asin', as_index=False) \\\n",
        "            .agg({'verified' : pd.Series.nunique}) \\\n",
        "            .rename(columns = {'verified' : 'verified_mean'}).head(20)"
      ],
      "metadata": {
        "colab": {
          "base_uri": "https://localhost:8080/",
          "height": 676
        },
        "id": "ETYepXx7ybc8",
        "outputId": "50da5eb7-264f-4779-e457-61686ada8ab1"
      },
      "id": "ETYepXx7ybc8",
      "execution_count": 127,
      "outputs": [
        {
          "output_type": "execute_result",
          "data": {
            "text/plain": [
              "          asin  verified_mean\n",
              "0   B00000JRSB              2\n",
              "1   B00005NZ1G              2\n",
              "2   B00005O0I2              2\n",
              "3   B00005Q8M0              2\n",
              "4   B00005TNI6              2\n",
              "5   B000066TS5              2\n",
              "6   B0000696CZ              2\n",
              "7   B000087H7T              2\n",
              "8   B00008J7NZ              2\n",
              "9   B00009OY9U              2\n",
              "10  B0000C7GHG              2\n",
              "11  B0009VXBAQ              2\n",
              "12  B000B9RI14              2\n",
              "13  B000ERVMI8              2\n",
              "14  B000FO4KO8              2\n",
              "15  B000FQ2D5E              2\n",
              "16  B000FQ2DTA              2\n",
              "17  B000FQ9R4E              2\n",
              "18  B000FRU0NU              2\n",
              "19  B000FRU1UM              2"
            ],
            "text/html": [
              "\n",
              "  <div id=\"df-c999443f-e24d-4194-a9d4-afc737dad844\">\n",
              "    <div class=\"colab-df-container\">\n",
              "      <div>\n",
              "<style scoped>\n",
              "    .dataframe tbody tr th:only-of-type {\n",
              "        vertical-align: middle;\n",
              "    }\n",
              "\n",
              "    .dataframe tbody tr th {\n",
              "        vertical-align: top;\n",
              "    }\n",
              "\n",
              "    .dataframe thead th {\n",
              "        text-align: right;\n",
              "    }\n",
              "</style>\n",
              "<table border=\"1\" class=\"dataframe\">\n",
              "  <thead>\n",
              "    <tr style=\"text-align: right;\">\n",
              "      <th></th>\n",
              "      <th>asin</th>\n",
              "      <th>verified_mean</th>\n",
              "    </tr>\n",
              "  </thead>\n",
              "  <tbody>\n",
              "    <tr>\n",
              "      <th>0</th>\n",
              "      <td>B00000JRSB</td>\n",
              "      <td>2</td>\n",
              "    </tr>\n",
              "    <tr>\n",
              "      <th>1</th>\n",
              "      <td>B00005NZ1G</td>\n",
              "      <td>2</td>\n",
              "    </tr>\n",
              "    <tr>\n",
              "      <th>2</th>\n",
              "      <td>B00005O0I2</td>\n",
              "      <td>2</td>\n",
              "    </tr>\n",
              "    <tr>\n",
              "      <th>3</th>\n",
              "      <td>B00005Q8M0</td>\n",
              "      <td>2</td>\n",
              "    </tr>\n",
              "    <tr>\n",
              "      <th>4</th>\n",
              "      <td>B00005TNI6</td>\n",
              "      <td>2</td>\n",
              "    </tr>\n",
              "    <tr>\n",
              "      <th>5</th>\n",
              "      <td>B000066TS5</td>\n",
              "      <td>2</td>\n",
              "    </tr>\n",
              "    <tr>\n",
              "      <th>6</th>\n",
              "      <td>B0000696CZ</td>\n",
              "      <td>2</td>\n",
              "    </tr>\n",
              "    <tr>\n",
              "      <th>7</th>\n",
              "      <td>B000087H7T</td>\n",
              "      <td>2</td>\n",
              "    </tr>\n",
              "    <tr>\n",
              "      <th>8</th>\n",
              "      <td>B00008J7NZ</td>\n",
              "      <td>2</td>\n",
              "    </tr>\n",
              "    <tr>\n",
              "      <th>9</th>\n",
              "      <td>B00009OY9U</td>\n",
              "      <td>2</td>\n",
              "    </tr>\n",
              "    <tr>\n",
              "      <th>10</th>\n",
              "      <td>B0000C7GHG</td>\n",
              "      <td>2</td>\n",
              "    </tr>\n",
              "    <tr>\n",
              "      <th>11</th>\n",
              "      <td>B0009VXBAQ</td>\n",
              "      <td>2</td>\n",
              "    </tr>\n",
              "    <tr>\n",
              "      <th>12</th>\n",
              "      <td>B000B9RI14</td>\n",
              "      <td>2</td>\n",
              "    </tr>\n",
              "    <tr>\n",
              "      <th>13</th>\n",
              "      <td>B000ERVMI8</td>\n",
              "      <td>2</td>\n",
              "    </tr>\n",
              "    <tr>\n",
              "      <th>14</th>\n",
              "      <td>B000FO4KO8</td>\n",
              "      <td>2</td>\n",
              "    </tr>\n",
              "    <tr>\n",
              "      <th>15</th>\n",
              "      <td>B000FQ2D5E</td>\n",
              "      <td>2</td>\n",
              "    </tr>\n",
              "    <tr>\n",
              "      <th>16</th>\n",
              "      <td>B000FQ2DTA</td>\n",
              "      <td>2</td>\n",
              "    </tr>\n",
              "    <tr>\n",
              "      <th>17</th>\n",
              "      <td>B000FQ9R4E</td>\n",
              "      <td>2</td>\n",
              "    </tr>\n",
              "    <tr>\n",
              "      <th>18</th>\n",
              "      <td>B000FRU0NU</td>\n",
              "      <td>2</td>\n",
              "    </tr>\n",
              "    <tr>\n",
              "      <th>19</th>\n",
              "      <td>B000FRU1UM</td>\n",
              "      <td>2</td>\n",
              "    </tr>\n",
              "  </tbody>\n",
              "</table>\n",
              "</div>\n",
              "      <button class=\"colab-df-convert\" onclick=\"convertToInteractive('df-c999443f-e24d-4194-a9d4-afc737dad844')\"\n",
              "              title=\"Convert this dataframe to an interactive table.\"\n",
              "              style=\"display:none;\">\n",
              "        \n",
              "  <svg xmlns=\"http://www.w3.org/2000/svg\" height=\"24px\"viewBox=\"0 0 24 24\"\n",
              "       width=\"24px\">\n",
              "    <path d=\"M0 0h24v24H0V0z\" fill=\"none\"/>\n",
              "    <path d=\"M18.56 5.44l.94 2.06.94-2.06 2.06-.94-2.06-.94-.94-2.06-.94 2.06-2.06.94zm-11 1L8.5 8.5l.94-2.06 2.06-.94-2.06-.94L8.5 2.5l-.94 2.06-2.06.94zm10 10l.94 2.06.94-2.06 2.06-.94-2.06-.94-.94-2.06-.94 2.06-2.06.94z\"/><path d=\"M17.41 7.96l-1.37-1.37c-.4-.4-.92-.59-1.43-.59-.52 0-1.04.2-1.43.59L10.3 9.45l-7.72 7.72c-.78.78-.78 2.05 0 2.83L4 21.41c.39.39.9.59 1.41.59.51 0 1.02-.2 1.41-.59l7.78-7.78 2.81-2.81c.8-.78.8-2.07 0-2.86zM5.41 20L4 18.59l7.72-7.72 1.47 1.35L5.41 20z\"/>\n",
              "  </svg>\n",
              "      </button>\n",
              "      \n",
              "  <style>\n",
              "    .colab-df-container {\n",
              "      display:flex;\n",
              "      flex-wrap:wrap;\n",
              "      gap: 12px;\n",
              "    }\n",
              "\n",
              "    .colab-df-convert {\n",
              "      background-color: #E8F0FE;\n",
              "      border: none;\n",
              "      border-radius: 50%;\n",
              "      cursor: pointer;\n",
              "      display: none;\n",
              "      fill: #1967D2;\n",
              "      height: 32px;\n",
              "      padding: 0 0 0 0;\n",
              "      width: 32px;\n",
              "    }\n",
              "\n",
              "    .colab-df-convert:hover {\n",
              "      background-color: #E2EBFA;\n",
              "      box-shadow: 0px 1px 2px rgba(60, 64, 67, 0.3), 0px 1px 3px 1px rgba(60, 64, 67, 0.15);\n",
              "      fill: #174EA6;\n",
              "    }\n",
              "\n",
              "    [theme=dark] .colab-df-convert {\n",
              "      background-color: #3B4455;\n",
              "      fill: #D2E3FC;\n",
              "    }\n",
              "\n",
              "    [theme=dark] .colab-df-convert:hover {\n",
              "      background-color: #434B5C;\n",
              "      box-shadow: 0px 1px 3px 1px rgba(0, 0, 0, 0.15);\n",
              "      filter: drop-shadow(0px 1px 2px rgba(0, 0, 0, 0.3));\n",
              "      fill: #FFFFFF;\n",
              "    }\n",
              "  </style>\n",
              "\n",
              "      <script>\n",
              "        const buttonEl =\n",
              "          document.querySelector('#df-c999443f-e24d-4194-a9d4-afc737dad844 button.colab-df-convert');\n",
              "        buttonEl.style.display =\n",
              "          google.colab.kernel.accessAllowed ? 'block' : 'none';\n",
              "\n",
              "        async function convertToInteractive(key) {\n",
              "          const element = document.querySelector('#df-c999443f-e24d-4194-a9d4-afc737dad844');\n",
              "          const dataTable =\n",
              "            await google.colab.kernel.invokeFunction('convertToInteractive',\n",
              "                                                     [key], {});\n",
              "          if (!dataTable) return;\n",
              "\n",
              "          const docLinkHtml = 'Like what you see? Visit the ' +\n",
              "            '<a target=\"_blank\" href=https://colab.research.google.com/notebooks/data_table.ipynb>data table notebook</a>'\n",
              "            + ' to learn more about interactive tables.';\n",
              "          element.innerHTML = '';\n",
              "          dataTable['output_type'] = 'display_data';\n",
              "          await google.colab.output.renderOutput(dataTable, element);\n",
              "          const docLink = document.createElement('div');\n",
              "          docLink.innerHTML = docLinkHtml;\n",
              "          element.appendChild(docLink);\n",
              "        }\n",
              "      </script>\n",
              "    </div>\n",
              "  </div>\n",
              "  "
            ]
          },
          "metadata": {},
          "execution_count": 127
        }
      ]
    },
    {
      "cell_type": "markdown",
      "source": [
        "### Matriz de relacionamento"
      ],
      "metadata": {
        "id": "A338mW0dz7sy"
      },
      "id": "A338mW0dz7sy"
    },
    {
      "cell_type": "code",
      "source": [
        "matriz_de_relacionamento_top_products_verified_count = df_total[df_total['asin'].isin(top_products_verified_count)] \\\n",
        "  .pivot_table(index='asin', columns='reviewerID', values='verified').fillna(0)\n"
      ],
      "metadata": {
        "id": "XgNQSS2yz6UK"
      },
      "id": "XgNQSS2yz6UK",
      "execution_count": 128,
      "outputs": []
    },
    {
      "cell_type": "code",
      "source": [
        "matriz_de_relacionamento_top_products_verified_count.shape"
      ],
      "metadata": {
        "colab": {
          "base_uri": "https://localhost:8080/"
        },
        "id": "M9YvJe9T2kjX",
        "outputId": "e769a498-23c3-4f51-cf3a-90b1854f1cc9"
      },
      "id": "M9YvJe9T2kjX",
      "execution_count": 129,
      "outputs": [
        {
          "output_type": "execute_result",
          "data": {
            "text/plain": [
              "(266, 361288)"
            ]
          },
          "metadata": {},
          "execution_count": 129
        }
      ]
    },
    {
      "cell_type": "code",
      "source": [
        "matriz_de_relacionamento_top_products_verified_count.head()"
      ],
      "metadata": {
        "colab": {
          "base_uri": "https://localhost:8080/",
          "height": 331
        },
        "id": "z03jw3E22wIR",
        "outputId": "629a4857-fda1-4cf0-9aa1-3d21e5512260"
      },
      "id": "z03jw3E22wIR",
      "execution_count": 130,
      "outputs": [
        {
          "output_type": "execute_result",
          "data": {
            "text/plain": [
              "reviewerID  A0003214FKMKJE0PCW3D  A0005622E33Y7RCVKKVN  A00065507CNSR8UHQFCK  \\\n",
              "asin                                                                           \n",
              "B00000JRSB                   0.0                   0.0                   0.0   \n",
              "B00005NZ1G                   0.0                   0.0                   0.0   \n",
              "B00005O0I2                   0.0                   0.0                   0.0   \n",
              "B00005Q8M0                   0.0                   0.0                   0.0   \n",
              "B00005TNI6                   0.0                   0.0                   0.0   \n",
              "\n",
              "reviewerID  A00101847G3FJTWYGNQA  A0011756FPL8K71Q5TAQ  A001932810S6RCIFHJ3V  \\\n",
              "asin                                                                           \n",
              "B00000JRSB                   0.0                   0.0                   0.0   \n",
              "B00005NZ1G                   0.0                   0.0                   0.0   \n",
              "B00005O0I2                   0.0                   0.0                   0.0   \n",
              "B00005Q8M0                   0.0                   0.0                   0.0   \n",
              "B00005TNI6                   0.0                   0.0                   0.0   \n",
              "\n",
              "reviewerID  A0025672ALSPPB1RH94H  A00356786CQNSUGGK2FA  A0039616ADOZ0KMWQRNX  \\\n",
              "asin                                                                           \n",
              "B00000JRSB                   0.0                   0.0                   0.0   \n",
              "B00005NZ1G                   0.0                   0.0                   0.0   \n",
              "B00005O0I2                   0.0                   0.0                   0.0   \n",
              "B00005Q8M0                   0.0                   0.0                   0.0   \n",
              "B00005TNI6                   0.0                   0.0                   0.0   \n",
              "\n",
              "reviewerID  A0049794AHFDZTYE50T0  ...  AZZV9M0S13U26  AZZW3Z3NTGMY7  \\\n",
              "asin                              ...                                 \n",
              "B00000JRSB                   0.0  ...            0.0            0.0   \n",
              "B00005NZ1G                   0.0  ...            0.0            0.0   \n",
              "B00005O0I2                   0.0  ...            0.0            0.0   \n",
              "B00005Q8M0                   0.0  ...            0.0            0.0   \n",
              "B00005TNI6                   0.0  ...            0.0            0.0   \n",
              "\n",
              "reviewerID  AZZWRUAQJ8BBE  AZZWV8SNTXQ7U  AZZWWSMIDFU6S  AZZX40NRMUDDQ  \\\n",
              "asin                                                                     \n",
              "B00000JRSB            0.0            0.0            0.0            0.0   \n",
              "B00005NZ1G            0.0            0.0            0.0            0.0   \n",
              "B00005O0I2            0.0            0.0            0.0            0.0   \n",
              "B00005Q8M0            0.0            0.0            0.0            0.0   \n",
              "B00005TNI6            0.0            0.0            0.0            0.0   \n",
              "\n",
              "reviewerID  AZZX6JJHIO4UZ  AZZY2HR1LLRFV  AZZYR0PRM4RBT  AZZZOLOP9ZO8B  \n",
              "asin                                                                    \n",
              "B00000JRSB            0.0            0.0            0.0            0.0  \n",
              "B00005NZ1G            0.0            0.0            0.0            0.0  \n",
              "B00005O0I2            0.0            0.0            0.0            0.0  \n",
              "B00005Q8M0            0.0            0.0            0.0            0.0  \n",
              "B00005TNI6            0.0            0.0            0.0            0.0  \n",
              "\n",
              "[5 rows x 361288 columns]"
            ],
            "text/html": [
              "\n",
              "  <div id=\"df-037dd6a5-b550-45bc-8d7a-b72b0cc5f0bd\">\n",
              "    <div class=\"colab-df-container\">\n",
              "      <div>\n",
              "<style scoped>\n",
              "    .dataframe tbody tr th:only-of-type {\n",
              "        vertical-align: middle;\n",
              "    }\n",
              "\n",
              "    .dataframe tbody tr th {\n",
              "        vertical-align: top;\n",
              "    }\n",
              "\n",
              "    .dataframe thead th {\n",
              "        text-align: right;\n",
              "    }\n",
              "</style>\n",
              "<table border=\"1\" class=\"dataframe\">\n",
              "  <thead>\n",
              "    <tr style=\"text-align: right;\">\n",
              "      <th>reviewerID</th>\n",
              "      <th>A0003214FKMKJE0PCW3D</th>\n",
              "      <th>A0005622E33Y7RCVKKVN</th>\n",
              "      <th>A00065507CNSR8UHQFCK</th>\n",
              "      <th>A00101847G3FJTWYGNQA</th>\n",
              "      <th>A0011756FPL8K71Q5TAQ</th>\n",
              "      <th>A001932810S6RCIFHJ3V</th>\n",
              "      <th>A0025672ALSPPB1RH94H</th>\n",
              "      <th>A00356786CQNSUGGK2FA</th>\n",
              "      <th>A0039616ADOZ0KMWQRNX</th>\n",
              "      <th>A0049794AHFDZTYE50T0</th>\n",
              "      <th>...</th>\n",
              "      <th>AZZV9M0S13U26</th>\n",
              "      <th>AZZW3Z3NTGMY7</th>\n",
              "      <th>AZZWRUAQJ8BBE</th>\n",
              "      <th>AZZWV8SNTXQ7U</th>\n",
              "      <th>AZZWWSMIDFU6S</th>\n",
              "      <th>AZZX40NRMUDDQ</th>\n",
              "      <th>AZZX6JJHIO4UZ</th>\n",
              "      <th>AZZY2HR1LLRFV</th>\n",
              "      <th>AZZYR0PRM4RBT</th>\n",
              "      <th>AZZZOLOP9ZO8B</th>\n",
              "    </tr>\n",
              "    <tr>\n",
              "      <th>asin</th>\n",
              "      <th></th>\n",
              "      <th></th>\n",
              "      <th></th>\n",
              "      <th></th>\n",
              "      <th></th>\n",
              "      <th></th>\n",
              "      <th></th>\n",
              "      <th></th>\n",
              "      <th></th>\n",
              "      <th></th>\n",
              "      <th></th>\n",
              "      <th></th>\n",
              "      <th></th>\n",
              "      <th></th>\n",
              "      <th></th>\n",
              "      <th></th>\n",
              "      <th></th>\n",
              "      <th></th>\n",
              "      <th></th>\n",
              "      <th></th>\n",
              "      <th></th>\n",
              "    </tr>\n",
              "  </thead>\n",
              "  <tbody>\n",
              "    <tr>\n",
              "      <th>B00000JRSB</th>\n",
              "      <td>0.0</td>\n",
              "      <td>0.0</td>\n",
              "      <td>0.0</td>\n",
              "      <td>0.0</td>\n",
              "      <td>0.0</td>\n",
              "      <td>0.0</td>\n",
              "      <td>0.0</td>\n",
              "      <td>0.0</td>\n",
              "      <td>0.0</td>\n",
              "      <td>0.0</td>\n",
              "      <td>...</td>\n",
              "      <td>0.0</td>\n",
              "      <td>0.0</td>\n",
              "      <td>0.0</td>\n",
              "      <td>0.0</td>\n",
              "      <td>0.0</td>\n",
              "      <td>0.0</td>\n",
              "      <td>0.0</td>\n",
              "      <td>0.0</td>\n",
              "      <td>0.0</td>\n",
              "      <td>0.0</td>\n",
              "    </tr>\n",
              "    <tr>\n",
              "      <th>B00005NZ1G</th>\n",
              "      <td>0.0</td>\n",
              "      <td>0.0</td>\n",
              "      <td>0.0</td>\n",
              "      <td>0.0</td>\n",
              "      <td>0.0</td>\n",
              "      <td>0.0</td>\n",
              "      <td>0.0</td>\n",
              "      <td>0.0</td>\n",
              "      <td>0.0</td>\n",
              "      <td>0.0</td>\n",
              "      <td>...</td>\n",
              "      <td>0.0</td>\n",
              "      <td>0.0</td>\n",
              "      <td>0.0</td>\n",
              "      <td>0.0</td>\n",
              "      <td>0.0</td>\n",
              "      <td>0.0</td>\n",
              "      <td>0.0</td>\n",
              "      <td>0.0</td>\n",
              "      <td>0.0</td>\n",
              "      <td>0.0</td>\n",
              "    </tr>\n",
              "    <tr>\n",
              "      <th>B00005O0I2</th>\n",
              "      <td>0.0</td>\n",
              "      <td>0.0</td>\n",
              "      <td>0.0</td>\n",
              "      <td>0.0</td>\n",
              "      <td>0.0</td>\n",
              "      <td>0.0</td>\n",
              "      <td>0.0</td>\n",
              "      <td>0.0</td>\n",
              "      <td>0.0</td>\n",
              "      <td>0.0</td>\n",
              "      <td>...</td>\n",
              "      <td>0.0</td>\n",
              "      <td>0.0</td>\n",
              "      <td>0.0</td>\n",
              "      <td>0.0</td>\n",
              "      <td>0.0</td>\n",
              "      <td>0.0</td>\n",
              "      <td>0.0</td>\n",
              "      <td>0.0</td>\n",
              "      <td>0.0</td>\n",
              "      <td>0.0</td>\n",
              "    </tr>\n",
              "    <tr>\n",
              "      <th>B00005Q8M0</th>\n",
              "      <td>0.0</td>\n",
              "      <td>0.0</td>\n",
              "      <td>0.0</td>\n",
              "      <td>0.0</td>\n",
              "      <td>0.0</td>\n",
              "      <td>0.0</td>\n",
              "      <td>0.0</td>\n",
              "      <td>0.0</td>\n",
              "      <td>0.0</td>\n",
              "      <td>0.0</td>\n",
              "      <td>...</td>\n",
              "      <td>0.0</td>\n",
              "      <td>0.0</td>\n",
              "      <td>0.0</td>\n",
              "      <td>0.0</td>\n",
              "      <td>0.0</td>\n",
              "      <td>0.0</td>\n",
              "      <td>0.0</td>\n",
              "      <td>0.0</td>\n",
              "      <td>0.0</td>\n",
              "      <td>0.0</td>\n",
              "    </tr>\n",
              "    <tr>\n",
              "      <th>B00005TNI6</th>\n",
              "      <td>0.0</td>\n",
              "      <td>0.0</td>\n",
              "      <td>0.0</td>\n",
              "      <td>0.0</td>\n",
              "      <td>0.0</td>\n",
              "      <td>0.0</td>\n",
              "      <td>0.0</td>\n",
              "      <td>0.0</td>\n",
              "      <td>0.0</td>\n",
              "      <td>0.0</td>\n",
              "      <td>...</td>\n",
              "      <td>0.0</td>\n",
              "      <td>0.0</td>\n",
              "      <td>0.0</td>\n",
              "      <td>0.0</td>\n",
              "      <td>0.0</td>\n",
              "      <td>0.0</td>\n",
              "      <td>0.0</td>\n",
              "      <td>0.0</td>\n",
              "      <td>0.0</td>\n",
              "      <td>0.0</td>\n",
              "    </tr>\n",
              "  </tbody>\n",
              "</table>\n",
              "<p>5 rows × 361288 columns</p>\n",
              "</div>\n",
              "      <button class=\"colab-df-convert\" onclick=\"convertToInteractive('df-037dd6a5-b550-45bc-8d7a-b72b0cc5f0bd')\"\n",
              "              title=\"Convert this dataframe to an interactive table.\"\n",
              "              style=\"display:none;\">\n",
              "        \n",
              "  <svg xmlns=\"http://www.w3.org/2000/svg\" height=\"24px\"viewBox=\"0 0 24 24\"\n",
              "       width=\"24px\">\n",
              "    <path d=\"M0 0h24v24H0V0z\" fill=\"none\"/>\n",
              "    <path d=\"M18.56 5.44l.94 2.06.94-2.06 2.06-.94-2.06-.94-.94-2.06-.94 2.06-2.06.94zm-11 1L8.5 8.5l.94-2.06 2.06-.94-2.06-.94L8.5 2.5l-.94 2.06-2.06.94zm10 10l.94 2.06.94-2.06 2.06-.94-2.06-.94-.94-2.06-.94 2.06-2.06.94z\"/><path d=\"M17.41 7.96l-1.37-1.37c-.4-.4-.92-.59-1.43-.59-.52 0-1.04.2-1.43.59L10.3 9.45l-7.72 7.72c-.78.78-.78 2.05 0 2.83L4 21.41c.39.39.9.59 1.41.59.51 0 1.02-.2 1.41-.59l7.78-7.78 2.81-2.81c.8-.78.8-2.07 0-2.86zM5.41 20L4 18.59l7.72-7.72 1.47 1.35L5.41 20z\"/>\n",
              "  </svg>\n",
              "      </button>\n",
              "      \n",
              "  <style>\n",
              "    .colab-df-container {\n",
              "      display:flex;\n",
              "      flex-wrap:wrap;\n",
              "      gap: 12px;\n",
              "    }\n",
              "\n",
              "    .colab-df-convert {\n",
              "      background-color: #E8F0FE;\n",
              "      border: none;\n",
              "      border-radius: 50%;\n",
              "      cursor: pointer;\n",
              "      display: none;\n",
              "      fill: #1967D2;\n",
              "      height: 32px;\n",
              "      padding: 0 0 0 0;\n",
              "      width: 32px;\n",
              "    }\n",
              "\n",
              "    .colab-df-convert:hover {\n",
              "      background-color: #E2EBFA;\n",
              "      box-shadow: 0px 1px 2px rgba(60, 64, 67, 0.3), 0px 1px 3px 1px rgba(60, 64, 67, 0.15);\n",
              "      fill: #174EA6;\n",
              "    }\n",
              "\n",
              "    [theme=dark] .colab-df-convert {\n",
              "      background-color: #3B4455;\n",
              "      fill: #D2E3FC;\n",
              "    }\n",
              "\n",
              "    [theme=dark] .colab-df-convert:hover {\n",
              "      background-color: #434B5C;\n",
              "      box-shadow: 0px 1px 3px 1px rgba(0, 0, 0, 0.15);\n",
              "      filter: drop-shadow(0px 1px 2px rgba(0, 0, 0, 0.3));\n",
              "      fill: #FFFFFF;\n",
              "    }\n",
              "  </style>\n",
              "\n",
              "      <script>\n",
              "        const buttonEl =\n",
              "          document.querySelector('#df-037dd6a5-b550-45bc-8d7a-b72b0cc5f0bd button.colab-df-convert');\n",
              "        buttonEl.style.display =\n",
              "          google.colab.kernel.accessAllowed ? 'block' : 'none';\n",
              "\n",
              "        async function convertToInteractive(key) {\n",
              "          const element = document.querySelector('#df-037dd6a5-b550-45bc-8d7a-b72b0cc5f0bd');\n",
              "          const dataTable =\n",
              "            await google.colab.kernel.invokeFunction('convertToInteractive',\n",
              "                                                     [key], {});\n",
              "          if (!dataTable) return;\n",
              "\n",
              "          const docLinkHtml = 'Like what you see? Visit the ' +\n",
              "            '<a target=\"_blank\" href=https://colab.research.google.com/notebooks/data_table.ipynb>data table notebook</a>'\n",
              "            + ' to learn more about interactive tables.';\n",
              "          element.innerHTML = '';\n",
              "          dataTable['output_type'] = 'display_data';\n",
              "          await google.colab.output.renderOutput(dataTable, element);\n",
              "          const docLink = document.createElement('div');\n",
              "          docLink.innerHTML = docLinkHtml;\n",
              "          element.appendChild(docLink);\n",
              "        }\n",
              "      </script>\n",
              "    </div>\n",
              "  </div>\n",
              "  "
            ]
          },
          "metadata": {},
          "execution_count": 130
        }
      ]
    },
    {
      "cell_type": "code",
      "source": [
        "# Quantidade de avaliações por usuário\n",
        "matriz_de_relacionamento_top_products_verified_count.sum()"
      ],
      "metadata": {
        "colab": {
          "base_uri": "https://localhost:8080/"
        },
        "id": "ZlcxLPUF3hlr",
        "outputId": "df7d8b0d-4d3b-4191-faf2-f2b9fca0114d"
      },
      "id": "ZlcxLPUF3hlr",
      "execution_count": 131,
      "outputs": [
        {
          "output_type": "execute_result",
          "data": {
            "text/plain": [
              "reviewerID\n",
              "A0003214FKMKJE0PCW3D    1.0\n",
              "A0005622E33Y7RCVKKVN    3.0\n",
              "A00065507CNSR8UHQFCK    1.0\n",
              "A00101847G3FJTWYGNQA    1.0\n",
              "A0011756FPL8K71Q5TAQ    1.0\n",
              "                       ... \n",
              "AZZX40NRMUDDQ           1.0\n",
              "AZZX6JJHIO4UZ           1.0\n",
              "AZZY2HR1LLRFV           1.0\n",
              "AZZYR0PRM4RBT           1.0\n",
              "AZZZOLOP9ZO8B           0.0\n",
              "Length: 361288, dtype: float64"
            ]
          },
          "metadata": {},
          "execution_count": 131
        }
      ]
    },
    {
      "cell_type": "markdown",
      "source": [
        "### Matriz de similaridade de cossenos"
      ],
      "metadata": {
        "id": "AP7hQ_BV32ah"
      },
      "id": "AP7hQ_BV32ah"
    },
    {
      "cell_type": "code",
      "source": [
        "cos_asin = cosine_similarity(matriz_de_relacionamento_top_products_verified_count)\n",
        "\n",
        "print(cos_asin)\n",
        "cos_asin.shape"
      ],
      "metadata": {
        "colab": {
          "base_uri": "https://localhost:8080/"
        },
        "id": "VU3cjyDD4BHf",
        "outputId": "e2cd8e0f-9178-492c-9e5f-e06d5fc9a2bd"
      },
      "id": "VU3cjyDD4BHf",
      "execution_count": 132,
      "outputs": [
        {
          "output_type": "stream",
          "name": "stdout",
          "text": [
            "[[1.         0.00410554 0.         ... 0.         0.         0.        ]\n",
            " [0.00410554 1.         0.         ... 0.         0.         0.        ]\n",
            " [0.         0.         1.         ... 0.         0.         0.        ]\n",
            " ...\n",
            " [0.         0.         0.         ... 1.         0.         0.        ]\n",
            " [0.         0.         0.         ... 0.         1.         0.        ]\n",
            " [0.         0.         0.         ... 0.         0.         1.        ]]\n"
          ]
        },
        {
          "output_type": "execute_result",
          "data": {
            "text/plain": [
              "(266, 266)"
            ]
          },
          "metadata": {},
          "execution_count": 132
        }
      ]
    },
    {
      "cell_type": "markdown",
      "source": [
        "Podemos ver na matriz de similaridade alguma similaridade entre alguns produtos. Então, agora vamos criar o sistema de recomendação."
      ],
      "metadata": {
        "id": "nJmyyHtW4aKv"
      },
      "id": "nJmyyHtW4aKv"
    },
    {
      "cell_type": "code",
      "source": [
        "def recomendar(asin):\n",
        "  print(f'Produto pesquisado: {asin}')\n",
        "  try:\n",
        "    asin_idx = matriz_de_relacionamento_top_products_verified_count.index.tolist().index(asin)\n",
        "    closest_10_asin = np.argsort(-cos_asin[asin_idx])[1:11]\n",
        "    print(f'Os 10 produtos mais próximos do asin: {asin} são :')\n",
        "    return matriz_de_relacionamento_top_products_verified_count.index[closest_10_asin].tolist()\n",
        "  except ValueError as e:\n",
        "    print(f'{asin} não encontrado na matriz de recomendação. Retornando os 10 produtos mais avaliados')\n",
        "    return data_sellers_poducts"
      ],
      "metadata": {
        "id": "uvB4_bGg4ZT2"
      },
      "id": "uvB4_bGg4ZT2",
      "execution_count": 133,
      "outputs": []
    },
    {
      "cell_type": "markdown",
      "source": [
        "Testando o sistema de recomendação com 1 asin existente e outro não"
      ],
      "metadata": {
        "id": "IhELVUj762xS"
      },
      "id": "IhELVUj762xS"
    },
    {
      "cell_type": "code",
      "source": [
        "asin = 'B00005Q8M0'\n",
        "asin_10_mais_proximos = recomendar(asin)\n",
        "\n",
        "asin_10_mais_proximos"
      ],
      "metadata": {
        "colab": {
          "base_uri": "https://localhost:8080/"
        },
        "id": "N-D4Ws7G69EY",
        "outputId": "d9be8a58-cc23-484d-dfa1-13dd2be776b8"
      },
      "id": "N-D4Ws7G69EY",
      "execution_count": 134,
      "outputs": [
        {
          "output_type": "stream",
          "name": "stdout",
          "text": [
            "Produto pesquisado: B00005Q8M0\n",
            "Os 10 produtos mais próximos do asin: B00005Q8M0 são :\n"
          ]
        },
        {
          "output_type": "execute_result",
          "data": {
            "text/plain": [
              "['B000FQ9R4E',\n",
              " 'B0017KIBAI',\n",
              " 'B00005TNI6',\n",
              " 'B0009VXBAQ',\n",
              " 'B00DD0B0BM',\n",
              " 'B0011E4J2Y',\n",
              " 'B000FQ2DTA',\n",
              " 'B0000696CZ',\n",
              " 'B0000C7GHG',\n",
              " 'B00EZPCX1A']"
            ]
          },
          "metadata": {},
          "execution_count": 134
        }
      ]
    },
    {
      "cell_type": "code",
      "source": [
        "asin = 'asin_inexist'\n",
        "asin_10_mais_proximos = recomendar(asin)\n",
        "\n",
        "asin_10_mais_proximos"
      ],
      "metadata": {
        "colab": {
          "base_uri": "https://localhost:8080/"
        },
        "id": "QmFxlxEx72tH",
        "outputId": "cf328c9a-002f-4bf4-a75a-bc77ca4fb2cc"
      },
      "id": "QmFxlxEx72tH",
      "execution_count": 135,
      "outputs": [
        {
          "output_type": "stream",
          "name": "stdout",
          "text": [
            "Produto pesquisado: asin_inexist\n",
            "asin_inexist não encontrado na matriz de recomendação. Retornando os 10 produtos mais avaliados\n"
          ]
        },
        {
          "output_type": "execute_result",
          "data": {
            "text/plain": [
              "['B00HTK1NCS',\n",
              " 'B004RMK57U',\n",
              " 'B00KKAQYXM',\n",
              " 'B00JJNQG98',\n",
              " 'B003ZSP0WW',\n",
              " 'B00178630A',\n",
              " 'B00E4MQODC',\n",
              " 'B000B9RI14',\n",
              " 'B0009VXBAQ',\n",
              " 'B00DBDPOZ4']"
            ]
          },
          "metadata": {},
          "execution_count": 135
        }
      ]
    },
    {
      "cell_type": "markdown",
      "source": [
        "Conseguimos criar um sistema de recomendação porém temos uma matriz esparsa, logo pode ser achado meio de diminuir essa esparsidão como levando a descrição do produto em consideração, a avaliação e a compra do produto."
      ],
      "metadata": {
        "id": "1xYQjSvz8J4Y"
      },
      "id": "1xYQjSvz8J4Y"
    }
  ],
  "metadata": {
    "kernelspec": {
      "display_name": "Python 3",
      "language": "python",
      "name": "python3"
    },
    "language_info": {
      "codemirror_mode": {
        "name": "ipython",
        "version": 3
      },
      "file_extension": ".py",
      "mimetype": "text/x-python",
      "name": "python",
      "nbconvert_exporter": "python",
      "pygments_lexer": "ipython3",
      "version": "3.8.8"
    },
    "colab": {
      "name": "class_plus_recomendation.ipynb",
      "provenance": [],
      "collapsed_sections": [
        "ec1d30fe",
        "ee651b97",
        "-KcGE6xUe9Ac",
        "ABCGOFxee6Gv",
        "eDKGus4Wx7KC",
        "1tjYevLZzd29"
      ],
      "machine_shape": "hm",
      "toc_visible": true
    },
    "accelerator": "GPU"
  },
  "nbformat": 4,
  "nbformat_minor": 5
}